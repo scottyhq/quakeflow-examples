{
 "cells": [
  {
   "cell_type": "markdown",
   "id": "8de744e6-db4c-4edd-b8c6-e03649b7aec3",
   "metadata": {
    "tags": []
   },
   "source": [
    "## Testing QuakeFlow on Alaska data"
   ]
  },
  {
   "cell_type": "code",
   "execution_count": 2,
   "id": "7ef92638-ff7f-490a-a973-353037cbf020",
   "metadata": {},
   "outputs": [],
   "source": [
    "from collections import defaultdict\n",
    "import numpy as np\n",
    "import pandas as pd\n",
    "import time\n",
    "import requests\n",
    "import json\n",
    "import obspy\n",
    "from obspy.clients.fdsn import Client\n",
    "import geopandas as gpd"
   ]
  },
  {
   "cell_type": "code",
   "execution_count": 3,
   "id": "ace827c5-eaf4-4fb4-b67f-907bd72b8cde",
   "metadata": {},
   "outputs": [],
   "source": [
    "import warnings\n",
    "warnings.filterwarnings('ignore')"
   ]
  },
  {
   "cell_type": "markdown",
   "id": "364025d3-f210-417e-beb8-7801c7d38b39",
   "metadata": {},
   "source": [
    "#### Create obspy catalog object from quakeml file"
   ]
  },
  {
   "cell_type": "code",
   "execution_count": 4,
   "id": "2c355acf-97cf-43d1-b66f-fe49417d7c1c",
   "metadata": {},
   "outputs": [
    {
     "name": "stdout",
     "output_type": "stream",
     "text": [
      "437 Event(s) in Catalog:\n",
      "2018-10-01T06:02:23.795000Z | +57.940, -153.929 | 2.1 ml | manual\n",
      "2018-10-01T08:35:07.702000Z | +57.139, -156.563 | 2.5 ml | manual\n",
      "...\n",
      "2018-10-31T11:05:22.076000Z | +56.208, -148.992 | 2.4 ml | manual\n",
      "2018-10-31T20:03:47.517000Z | +55.858, -149.523 | 2.4 ml | manual\n",
      "To see all events call 'print(CatalogObject.__str__(print_all=True))'\n"
     ]
    }
   ],
   "source": [
    "cat = obspy.core.event.read_events('XO_2018_10.quakeml')\n",
    "print(cat)"
   ]
  },
  {
   "cell_type": "markdown",
   "id": "58154194-1adc-458d-bf3f-a5a019d14bd8",
   "metadata": {},
   "source": [
    "#### Pick an event to try out, and look at how many picks it has"
   ]
  },
  {
   "cell_type": "code",
   "execution_count": 5,
   "id": "9897abf6-f79d-424a-9716-559630d02f39",
   "metadata": {},
   "outputs": [
    {
     "name": "stdout",
     "output_type": "stream",
     "text": [
      "Earthquake on 2018-10-01T09:42:17.906000Z\n",
      "Earthquake has 26 picks\n",
      "Earthquake magnitude is 1.4\n"
     ]
    }
   ],
   "source": [
    "event = cat.events[2]\n",
    "print('Earthquake on',str(event.origins[0].time))\n",
    "print('Earthquake has',str(len(event.picks)),'picks')\n",
    "print('Earthquake magnitude is',str(event.magnitudes[0].mag))"
   ]
  },
  {
   "cell_type": "markdown",
   "id": "80026ffa-b430-4e09-861b-90d95c45f37a",
   "metadata": {
    "tags": []
   },
   "source": [
    "#### Now let's get a list of the stations that have picks\n",
    "\n",
    "This will be in the form networkcode.stationcode.locationcode.channelbase"
   ]
  },
  {
   "cell_type": "code",
   "execution_count": 6,
   "id": "e445b680-dfd1-40b8-9250-426c41f3da44",
   "metadata": {},
   "outputs": [
    {
     "name": "stdout",
     "output_type": "stream",
     "text": [
      "['AV.KCE..EH', 'XO.ET20..HH', 'AV.KCG..EH', 'AV.KVT..EH', 'AV.ANCK..BH', 'XO.ET19..HH', 'AV.ANCK..BH', 'AV.KJL..BH', 'XO.ET19..HH', 'AV.KEL..EH', 'AV.KAHG..BH', 'AV.Q18K..BH', 'XO.ET17..HH', 'XO.EP15..HH', 'AV.Q18K..BH', 'AK.R18K..BH', 'XO.KT06..HH', 'TA.Q16K..BH', 'AK.P17K..BH', 'XO.ET17..HH', 'XO.EP15..HH', 'AV.KABU..BH', 'AV.ACH..BH', 'AV.KCG..EH', 'AV.KABU..BH', 'AV.ACH..BH']\n"
     ]
    }
   ],
   "source": [
    "networks = [p.waveform_id.network_code for p in event.picks]\n",
    "stations = [p.waveform_id.station_code for p in event.picks]\n",
    "channels = [p.waveform_id.channel_code[0:2] + \"*\" for p in event.picks]\n",
    "\n",
    "# Python 'f' strings are quite handy for string formatting:\n",
    "sta_list = [f\"{n}.{s}..{c[0:2]}\" for n, s, c in zip(networks, stations, channels)]\n",
    "\n",
    "print(sta_list)"
   ]
  },
  {
   "cell_type": "markdown",
   "id": "c6e94dad-1de1-4a32-880d-b18f50f2b9f3",
   "metadata": {
    "tags": []
   },
   "source": [
    "#### Let's get the station information for those stations from IRIS"
   ]
  },
  {
   "cell_type": "code",
   "execution_count": 14,
   "id": "503ba6cd-76fc-47bf-a94e-2a4cc8ee6f41",
   "metadata": {},
   "outputs": [
    {
     "data": {
      "text/plain": [
       "'ACH,ANCK,EP15,ET17,ET19,ET20,KABU,KAHG,KCE,KCG,KEL,KJL,KT06,KVT,P17K,Q16K,Q18K,R18K'"
      ]
     },
     "execution_count": 14,
     "metadata": {},
     "output_type": "execute_result"
    }
   ],
   "source": [
    "station"
   ]
  },
  {
   "cell_type": "code",
   "execution_count": 21,
   "id": "9771ac4b-1096-4bf6-ac26-bffb48d67113",
   "metadata": {},
   "outputs": [
    {
     "name": "stdout",
     "output_type": "stream",
     "text": [
      "Inventory created at 2022-01-12T01:03:10.543000Z\n",
      "\tCreated by: IRIS WEB SERVICE: fdsnws-station | version: 1.1.48\n",
      "\t\t    http://service.iris.edu/fdsnws/station/1/query?starttime=2018-10-01...\n",
      "\tSending institution: IRIS-DMC (IRIS-DMC)\n",
      "\tContains:\n",
      "\t\tNetworks (3):\n",
      "\t\t\tAV, TA, XO\n",
      "\t\tStations (18):\n",
      "\t\t\tAV.ACH (Angle Creek Headwaters, Katmai, Alaska)\n",
      "\t\t\tAV.ANCK (Angle Creek, Katmai Volcanic Cluster, Alaska)\n",
      "\t\t\tAV.KABU (KABU - Katmai Volcanic Cluster, Alaska)\n",
      "\t\t\tAV.KAHG (Katmai Hook Glacier, Alaska)\n",
      "\t\t\tAV.KCE (Katmai Cerebus, Alaska)\n",
      "\t\t\tAV.KCG (Knife Creek Glacier, Katmai, Alaska)\n",
      "\t\t\tAV.KEL (Katmai Kelez, Alaska)\n",
      "\t\t\tAV.KJL (Kejulik, Katmai, Alaska)\n",
      "\t\t\tAV.KVT (Katmai Valley of 10,000 Smokes, Alaska)\n",
      "\t\t\tTA.P17K (Kvichak River, AK, USA)\n",
      "\t\t\tTA.Q16K (King Salmon, AK, USA)\n",
      "\t\t\tTA.Q18K (Katmai Hardscrabble Creek, AK, USA)\n",
      "\t\t\tTA.R18K (Karluk, AK, USA)\n",
      "\t\t\tXO.EP15 (Kulic Lake, AK)\n",
      "\t\t\tXO.ET17 (Naknek Lake, AK)\n",
      "\t\t\tXO.ET19 (Valley10K Smokes, AK)\n",
      "\t\t\tXO.ET20 (Barrier Range, AK)\n",
      "\t\t\tXO.KT06 (Harverster Island, AK)\n",
      "\t\tChannels (49):\n",
      "\t\t\tAV.ACH..BHZ, AV.ACH..BHN, AV.ACH..BHE, AV.ANCK..BHZ, AV.ANCK..BHN, \n",
      "\t\t\tAV.ANCK..BHE, AV.KABU..BHZ, AV.KABU..BHN, AV.KABU..BHE, \n",
      "\t\t\tAV.KAHG..BHZ, AV.KAHG..BHN, AV.KAHG..BHE, AV.KAHG..EHZ, AV.KCE..EHZ\n",
      "\t\t\tAV.KCG..EHZ, AV.KCG..EHN, AV.KCG..EHE, AV.KEL..EHZ, AV.KJL..BHZ, \n",
      "\t\t\tAV.KJL..BHN, AV.KJL..BHE, AV.KVT..EHZ, TA.P17K..BHZ, TA.P17K..BHN, \n",
      "\t\t\tTA.P17K..BHE, TA.Q16K..BHZ, TA.Q16K..BHN, TA.Q16K..BHE, \n",
      "\t\t\tTA.Q18K..BHZ, TA.Q18K..BHN, TA.Q18K..BHE, TA.R18K..BHZ, \n",
      "\t\t\tTA.R18K..BHN, TA.R18K..BHE, XO.EP15..HHZ, XO.EP15..HHN, \n",
      "\t\t\tXO.EP15..HHE, XO.ET17..HHZ, XO.ET17..HHN, XO.ET17..HHE, \n",
      "\t\t\tXO.ET19..HHZ, XO.ET19..HHN, XO.ET19..HHE, XO.ET20..HHZ, \n",
      "\t\t\tXO.ET20..HHN, XO.ET20..HHE, XO.KT06..HHZ, XO.KT06..HHN, \n",
      "\t\t\tXO.KT06..HHE\n"
     ]
    }
   ],
   "source": [
    "network = \",\".join((np.unique(networks)).tolist())\n",
    "channel = \",\".join((np.unique(channels)).tolist())\n",
    "station = \",\".join((np.unique(stations)).tolist())\n",
    "starttime = event.origins[0].time\n",
    "\n",
    "sta_metadata = Client(\"iris\").get_stations(starttime = starttime, endtime  = starttime + 30,network = network,channel=channel,station=station,level='response',location='')\n",
    "    \n",
    "print(sta_metadata)"
   ]
  },
  {
   "cell_type": "markdown",
   "id": "109c1fa1-97ce-4f12-ad8d-1b1441bc9e0c",
   "metadata": {},
   "source": [
    "#### Let's turn it into a more useful dataframe..."
   ]
  },
  {
   "cell_type": "code",
   "execution_count": 159,
   "id": "554365ee-422e-45d6-ad81-f9e2b6bef399",
   "metadata": {},
   "outputs": [],
   "source": [
    "station_locs = defaultdict(dict)\n",
    "for network in sta_metadata:\n",
    "    for station in network:\n",
    "        for chn in station:\n",
    "            sid = f\"{network.code}.{station.code}.{chn.location_code}.{chn.code[:-1]}\"\n",
    "            if sid in station_locs:\n",
    "                station_locs[sid][\"component\"] += f\",{chn.code[-1]}\"\n",
    "                station_locs[sid][\"response\"] += f\",{chn.response.instrument_sensitivity.value:.2f}\"\n",
    "            else:\n",
    "                component = f\"{chn.code[-1]}\"\n",
    "                response = f\"{chn.response.instrument_sensitivity.value:.2f}\"\n",
    "                dtype = chn.response.instrument_sensitivity.input_units.lower()\n",
    "                tmp_dict = {}\n",
    "                tmp_dict[\"longitude\"], tmp_dict[\"latitude\"], tmp_dict[\"elevation(m)\"] = (\n",
    "                    chn.longitude,\n",
    "                    chn.latitude,\n",
    "                    chn.elevation,\n",
    "                )\n",
    "                tmp_dict[\"component\"], tmp_dict[\"response\"], tmp_dict[\"unit\"] = component, response, dtype\n",
    "                station_locs[sid] = tmp_dict\n",
    "\n",
    "station_locs = pd.DataFrame.from_dict(station_locs, orient='index')\n",
    "station_locs[\"id\"] = station_locs.index"
   ]
  },
  {
   "cell_type": "code",
   "execution_count": null,
   "id": "b2f99ad6-83e9-40ea-8cf8-0624c4ff499b",
   "metadata": {},
   "outputs": [],
   "source": [
    "#station_locs['elevation(m)']"
   ]
  },
  {
   "cell_type": "code",
   "execution_count": 163,
   "id": "7cff887b-2a28-4091-91d2-04e3c0c0235c",
   "metadata": {},
   "outputs": [
    {
     "data": {
      "text/html": [
       "<div style=\"width:100%;\"><div style=\"position:relative;width:100%;height:0;padding-bottom:60%;\"><span style=\"color:#565656\">Make this Notebook Trusted to load map: File -> Trust Notebook</span><iframe src=\"about:blank\" style=\"position:absolute;width:100%;height:100%;left:0;top:0;border:none !important;\" data-html=%3C%21DOCTYPE%20html%3E%0A%3Chead%3E%20%20%20%20%0A%20%20%20%20%3Cmeta%20http-equiv%3D%22content-type%22%20content%3D%22text/html%3B%20charset%3DUTF-8%22%20/%3E%0A%20%20%20%20%0A%20%20%20%20%20%20%20%20%3Cscript%3E%0A%20%20%20%20%20%20%20%20%20%20%20%20L_NO_TOUCH%20%3D%20false%3B%0A%20%20%20%20%20%20%20%20%20%20%20%20L_DISABLE_3D%20%3D%20false%3B%0A%20%20%20%20%20%20%20%20%3C/script%3E%0A%20%20%20%20%0A%20%20%20%20%3Cstyle%3Ehtml%2C%20body%20%7Bwidth%3A%20100%25%3Bheight%3A%20100%25%3Bmargin%3A%200%3Bpadding%3A%200%3B%7D%3C/style%3E%0A%20%20%20%20%3Cstyle%3E%23map%20%7Bposition%3Aabsolute%3Btop%3A0%3Bbottom%3A0%3Bright%3A0%3Bleft%3A0%3B%7D%3C/style%3E%0A%20%20%20%20%3Cscript%20src%3D%22https%3A//cdn.jsdelivr.net/npm/leaflet%401.6.0/dist/leaflet.js%22%3E%3C/script%3E%0A%20%20%20%20%3Cscript%20src%3D%22https%3A//code.jquery.com/jquery-1.12.4.min.js%22%3E%3C/script%3E%0A%20%20%20%20%3Cscript%20src%3D%22https%3A//maxcdn.bootstrapcdn.com/bootstrap/3.2.0/js/bootstrap.min.js%22%3E%3C/script%3E%0A%20%20%20%20%3Cscript%20src%3D%22https%3A//cdnjs.cloudflare.com/ajax/libs/Leaflet.awesome-markers/2.0.2/leaflet.awesome-markers.js%22%3E%3C/script%3E%0A%20%20%20%20%3Clink%20rel%3D%22stylesheet%22%20href%3D%22https%3A//cdn.jsdelivr.net/npm/leaflet%401.6.0/dist/leaflet.css%22/%3E%0A%20%20%20%20%3Clink%20rel%3D%22stylesheet%22%20href%3D%22https%3A//maxcdn.bootstrapcdn.com/bootstrap/3.2.0/css/bootstrap.min.css%22/%3E%0A%20%20%20%20%3Clink%20rel%3D%22stylesheet%22%20href%3D%22https%3A//maxcdn.bootstrapcdn.com/bootstrap/3.2.0/css/bootstrap-theme.min.css%22/%3E%0A%20%20%20%20%3Clink%20rel%3D%22stylesheet%22%20href%3D%22https%3A//maxcdn.bootstrapcdn.com/font-awesome/4.6.3/css/font-awesome.min.css%22/%3E%0A%20%20%20%20%3Clink%20rel%3D%22stylesheet%22%20href%3D%22https%3A//cdnjs.cloudflare.com/ajax/libs/Leaflet.awesome-markers/2.0.2/leaflet.awesome-markers.css%22/%3E%0A%20%20%20%20%3Clink%20rel%3D%22stylesheet%22%20href%3D%22https%3A//cdn.jsdelivr.net/gh/python-visualization/folium/folium/templates/leaflet.awesome.rotate.min.css%22/%3E%0A%20%20%20%20%0A%20%20%20%20%20%20%20%20%20%20%20%20%3Cmeta%20name%3D%22viewport%22%20content%3D%22width%3Ddevice-width%2C%0A%20%20%20%20%20%20%20%20%20%20%20%20%20%20%20%20initial-scale%3D1.0%2C%20maximum-scale%3D1.0%2C%20user-scalable%3Dno%22%20/%3E%0A%20%20%20%20%20%20%20%20%20%20%20%20%3Cstyle%3E%0A%20%20%20%20%20%20%20%20%20%20%20%20%20%20%20%20%23map_4eb19df494d745fea29b037e08bad3e3%20%7B%0A%20%20%20%20%20%20%20%20%20%20%20%20%20%20%20%20%20%20%20%20position%3A%20relative%3B%0A%20%20%20%20%20%20%20%20%20%20%20%20%20%20%20%20%20%20%20%20width%3A%20100.0%25%3B%0A%20%20%20%20%20%20%20%20%20%20%20%20%20%20%20%20%20%20%20%20height%3A%20100.0%25%3B%0A%20%20%20%20%20%20%20%20%20%20%20%20%20%20%20%20%20%20%20%20left%3A%200.0%25%3B%0A%20%20%20%20%20%20%20%20%20%20%20%20%20%20%20%20%20%20%20%20top%3A%200.0%25%3B%0A%20%20%20%20%20%20%20%20%20%20%20%20%20%20%20%20%7D%0A%20%20%20%20%20%20%20%20%20%20%20%20%3C/style%3E%0A%20%20%20%20%20%20%20%20%0A%20%20%20%20%0A%20%20%20%20%20%20%20%20%20%20%20%20%20%20%20%20%20%20%20%20%3Cstyle%3E%0A%20%20%20%20%20%20%20%20%20%20%20%20%20%20%20%20%20%20%20%20%20%20%20%20.foliumtooltip%20%7B%0A%20%20%20%20%20%20%20%20%20%20%20%20%20%20%20%20%20%20%20%20%20%20%20%20%20%20%20%20%0A%20%20%20%20%20%20%20%20%20%20%20%20%20%20%20%20%20%20%20%20%20%20%20%20%7D%0A%20%20%20%20%20%20%20%20%20%20%20%20%20%20%20%20%20%20%20%20%20%20%20.foliumtooltip%20table%7B%0A%20%20%20%20%20%20%20%20%20%20%20%20%20%20%20%20%20%20%20%20%20%20%20%20%20%20%20%20margin%3A%20auto%3B%0A%20%20%20%20%20%20%20%20%20%20%20%20%20%20%20%20%20%20%20%20%20%20%20%20%7D%0A%20%20%20%20%20%20%20%20%20%20%20%20%20%20%20%20%20%20%20%20%20%20%20%20.foliumtooltip%20tr%7B%0A%20%20%20%20%20%20%20%20%20%20%20%20%20%20%20%20%20%20%20%20%20%20%20%20%20%20%20%20text-align%3A%20left%3B%0A%20%20%20%20%20%20%20%20%20%20%20%20%20%20%20%20%20%20%20%20%20%20%20%20%7D%0A%20%20%20%20%20%20%20%20%20%20%20%20%20%20%20%20%20%20%20%20%20%20%20%20.foliumtooltip%20th%7B%0A%20%20%20%20%20%20%20%20%20%20%20%20%20%20%20%20%20%20%20%20%20%20%20%20%20%20%20%20padding%3A%202px%3B%20padding-right%3A%208px%3B%0A%20%20%20%20%20%20%20%20%20%20%20%20%20%20%20%20%20%20%20%20%20%20%20%20%7D%0A%20%20%20%20%20%20%20%20%20%20%20%20%20%20%20%20%20%20%20%20%3C/style%3E%0A%20%20%20%20%20%20%20%20%20%20%20%20%0A%3C/head%3E%0A%3Cbody%3E%20%20%20%20%0A%20%20%20%20%0A%20%20%20%20%20%20%20%20%20%20%20%20%3Cdiv%20class%3D%22folium-map%22%20id%3D%22map_4eb19df494d745fea29b037e08bad3e3%22%20%3E%3C/div%3E%0A%20%20%20%20%20%20%20%20%0A%3C/body%3E%0A%3Cscript%3E%20%20%20%20%0A%20%20%20%20%0A%20%20%20%20%20%20%20%20%20%20%20%20var%20map_4eb19df494d745fea29b037e08bad3e3%20%3D%20L.map%28%0A%20%20%20%20%20%20%20%20%20%20%20%20%20%20%20%20%22map_4eb19df494d745fea29b037e08bad3e3%22%2C%0A%20%20%20%20%20%20%20%20%20%20%20%20%20%20%20%20%7B%0A%20%20%20%20%20%20%20%20%20%20%20%20%20%20%20%20%20%20%20%20center%3A%20%5B58.3809%2C%20-155.32985%5D%2C%0A%20%20%20%20%20%20%20%20%20%20%20%20%20%20%20%20%20%20%20%20crs%3A%20L.CRS.EPSG3857%2C%0A%20%20%20%20%20%20%20%20%20%20%20%20%20%20%20%20%20%20%20%20zoom%3A%2010%2C%0A%20%20%20%20%20%20%20%20%20%20%20%20%20%20%20%20%20%20%20%20zoomControl%3A%20true%2C%0A%20%20%20%20%20%20%20%20%20%20%20%20%20%20%20%20%20%20%20%20preferCanvas%3A%20false%2C%0A%20%20%20%20%20%20%20%20%20%20%20%20%20%20%20%20%7D%0A%20%20%20%20%20%20%20%20%20%20%20%20%29%3B%0A%20%20%20%20%20%20%20%20%20%20%20%20L.control.scale%28%29.addTo%28map_4eb19df494d745fea29b037e08bad3e3%29%3B%0A%0A%20%20%20%20%20%20%20%20%20%20%20%20%0A%0A%20%20%20%20%20%20%20%20%0A%20%20%20%20%0A%20%20%20%20%20%20%20%20%20%20%20%20var%20tile_layer_17ef5bcf0a674071a65b365f06074686%20%3D%20L.tileLayer%28%0A%20%20%20%20%20%20%20%20%20%20%20%20%20%20%20%20%22https%3A//%7Bs%7D.tile.openstreetmap.org/%7Bz%7D/%7Bx%7D/%7By%7D.png%22%2C%0A%20%20%20%20%20%20%20%20%20%20%20%20%20%20%20%20%7B%22attribution%22%3A%20%22Data%20by%20%5Cu0026copy%3B%20%5Cu003ca%20href%3D%5C%22http%3A//openstreetmap.org%5C%22%5Cu003eOpenStreetMap%5Cu003c/a%5Cu003e%2C%20under%20%5Cu003ca%20href%3D%5C%22http%3A//www.openstreetmap.org/copyright%5C%22%5Cu003eODbL%5Cu003c/a%5Cu003e.%22%2C%20%22detectRetina%22%3A%20false%2C%20%22maxNativeZoom%22%3A%2018%2C%20%22maxZoom%22%3A%2018%2C%20%22minZoom%22%3A%200%2C%20%22noWrap%22%3A%20false%2C%20%22opacity%22%3A%201%2C%20%22subdomains%22%3A%20%22abc%22%2C%20%22tms%22%3A%20false%7D%0A%20%20%20%20%20%20%20%20%20%20%20%20%29.addTo%28map_4eb19df494d745fea29b037e08bad3e3%29%3B%0A%20%20%20%20%20%20%20%20%0A%20%20%20%20%0A%20%20%20%20%20%20%20%20%20%20%20%20map_4eb19df494d745fea29b037e08bad3e3.fitBounds%28%0A%20%20%20%20%20%20%20%20%20%20%20%20%20%20%20%20%5B%5B57.5665%2C%20-156.6556%5D%2C%20%5B59.1953%2C%20-154.0041%5D%5D%2C%0A%20%20%20%20%20%20%20%20%20%20%20%20%20%20%20%20%7B%7D%0A%20%20%20%20%20%20%20%20%20%20%20%20%29%3B%0A%20%20%20%20%20%20%20%20%0A%20%20%20%20%0A%20%20%20%20%20%20%20%20function%20geo_json_fc9e97c089054453b33395335bfd341d_styler%28feature%29%20%7B%0A%20%20%20%20%20%20%20%20%20%20%20%20switch%28feature.id%29%20%7B%0A%20%20%20%20%20%20%20%20%20%20%20%20%20%20%20%20default%3A%0A%20%20%20%20%20%20%20%20%20%20%20%20%20%20%20%20%20%20%20%20return%20%7B%22fillOpacity%22%3A%200.5%2C%20%22weight%22%3A%202%7D%3B%0A%20%20%20%20%20%20%20%20%20%20%20%20%7D%0A%20%20%20%20%20%20%20%20%7D%0A%20%20%20%20%20%20%20%20function%20geo_json_fc9e97c089054453b33395335bfd341d_highlighter%28feature%29%20%7B%0A%20%20%20%20%20%20%20%20%20%20%20%20switch%28feature.id%29%20%7B%0A%20%20%20%20%20%20%20%20%20%20%20%20%20%20%20%20default%3A%0A%20%20%20%20%20%20%20%20%20%20%20%20%20%20%20%20%20%20%20%20return%20%7B%22fillOpacity%22%3A%200.75%7D%3B%0A%20%20%20%20%20%20%20%20%20%20%20%20%7D%0A%20%20%20%20%20%20%20%20%7D%0A%20%20%20%20%20%20%20%20function%20geo_json_fc9e97c089054453b33395335bfd341d_pointToLayer%28feature%2C%20latlng%29%20%7B%0A%20%20%20%20%20%20%20%20%20%20%20%20var%20opts%20%3D%20%7B%22bubblingMouseEvents%22%3A%20true%2C%20%22color%22%3A%20%22%233388ff%22%2C%20%22dashArray%22%3A%20null%2C%20%22dashOffset%22%3A%20null%2C%20%22fill%22%3A%20true%2C%20%22fillColor%22%3A%20%22%233388ff%22%2C%20%22fillOpacity%22%3A%200.2%2C%20%22fillRule%22%3A%20%22evenodd%22%2C%20%22lineCap%22%3A%20%22round%22%2C%20%22lineJoin%22%3A%20%22round%22%2C%20%22opacity%22%3A%201.0%2C%20%22radius%22%3A%202%2C%20%22stroke%22%3A%20true%2C%20%22weight%22%3A%203%7D%3B%0A%20%20%20%20%20%20%20%20%20%20%20%20%0A%20%20%20%20%20%20%20%20%20%20%20%20let%20style%20%3D%20geo_json_fc9e97c089054453b33395335bfd341d_styler%28feature%29%0A%20%20%20%20%20%20%20%20%20%20%20%20Object.assign%28opts%2C%20style%29%0A%20%20%20%20%20%20%20%20%20%20%20%20%0A%20%20%20%20%20%20%20%20%20%20%20%20return%20new%20L.CircleMarker%28latlng%2C%20opts%29%0A%20%20%20%20%20%20%20%20%7D%0A%0A%20%20%20%20%20%20%20%20function%20geo_json_fc9e97c089054453b33395335bfd341d_onEachFeature%28feature%2C%20layer%29%20%7B%0A%20%20%20%20%20%20%20%20%20%20%20%20layer.on%28%7B%0A%20%20%20%20%20%20%20%20%20%20%20%20%20%20%20%20mouseout%3A%20function%28e%29%20%7B%0A%20%20%20%20%20%20%20%20%20%20%20%20%20%20%20%20%20%20%20%20if%28typeof%20e.target.setStyle%20%3D%3D%3D%20%22function%22%29%7B%0A%20%20%20%20%20%20%20%20%20%20%20%20%20%20%20%20%20%20%20%20%20%20%20%20geo_json_fc9e97c089054453b33395335bfd341d.resetStyle%28e.target%29%3B%0A%20%20%20%20%20%20%20%20%20%20%20%20%20%20%20%20%20%20%20%20%7D%0A%20%20%20%20%20%20%20%20%20%20%20%20%20%20%20%20%7D%2C%0A%20%20%20%20%20%20%20%20%20%20%20%20%20%20%20%20mouseover%3A%20function%28e%29%20%7B%0A%20%20%20%20%20%20%20%20%20%20%20%20%20%20%20%20%20%20%20%20if%28typeof%20e.target.setStyle%20%3D%3D%3D%20%22function%22%29%7B%0A%20%20%20%20%20%20%20%20%20%20%20%20%20%20%20%20%20%20%20%20%20%20%20%20const%20highlightStyle%20%3D%20geo_json_fc9e97c089054453b33395335bfd341d_highlighter%28e.target.feature%29%0A%20%20%20%20%20%20%20%20%20%20%20%20%20%20%20%20%20%20%20%20%20%20%20%20e.target.setStyle%28highlightStyle%29%3B%0A%20%20%20%20%20%20%20%20%20%20%20%20%20%20%20%20%20%20%20%20%7D%0A%20%20%20%20%20%20%20%20%20%20%20%20%20%20%20%20%7D%2C%0A%20%20%20%20%20%20%20%20%20%20%20%20%7D%29%3B%0A%20%20%20%20%20%20%20%20%7D%3B%0A%20%20%20%20%20%20%20%20var%20geo_json_fc9e97c089054453b33395335bfd341d%20%3D%20L.geoJson%28null%2C%20%7B%0A%20%20%20%20%20%20%20%20%20%20%20%20%20%20%20%20onEachFeature%3A%20geo_json_fc9e97c089054453b33395335bfd341d_onEachFeature%2C%0A%20%20%20%20%20%20%20%20%20%20%20%20%0A%20%20%20%20%20%20%20%20%20%20%20%20%20%20%20%20style%3A%20geo_json_fc9e97c089054453b33395335bfd341d_styler%2C%0A%20%20%20%20%20%20%20%20%20%20%20%20%20%20%20%20pointToLayer%3A%20geo_json_fc9e97c089054453b33395335bfd341d_pointToLayer%0A%20%20%20%20%20%20%20%20%7D%29%3B%0A%0A%20%20%20%20%20%20%20%20function%20geo_json_fc9e97c089054453b33395335bfd341d_add%20%28data%29%20%7B%0A%20%20%20%20%20%20%20%20%20%20%20%20geo_json_fc9e97c089054453b33395335bfd341d%0A%20%20%20%20%20%20%20%20%20%20%20%20%20%20%20%20.addData%28data%29%0A%20%20%20%20%20%20%20%20%20%20%20%20%20%20%20%20.addTo%28map_4eb19df494d745fea29b037e08bad3e3%29%3B%0A%20%20%20%20%20%20%20%20%7D%0A%20%20%20%20%20%20%20%20%20%20%20%20geo_json_fc9e97c089054453b33395335bfd341d_add%28%7B%22bbox%22%3A%20%5B-156.6556%2C%2057.5665%2C%20-154.0041%2C%2059.1953%5D%2C%20%22features%22%3A%20%5B%7B%22bbox%22%3A%20%5B-155.3281%2C%2058.21%2C%20-155.3281%2C%2058.21%5D%2C%20%22geometry%22%3A%20%7B%22coordinates%22%3A%20%5B-155.3281%2C%2058.21%5D%2C%20%22type%22%3A%20%22Point%22%7D%2C%20%22id%22%3A%20%22AV.ACH..BH%22%2C%20%22properties%22%3A%20%7B%22component%22%3A%20%22E%2CN%2CZ%22%2C%20%22elevation%28m%29%22%3A%20960.0%2C%20%22id%22%3A%20%22AV.ACH..BH%22%2C%20%22latitude%22%3A%2058.21%2C%20%22longitude%22%3A%20-155.3281%2C%20%22response%22%3A%20%22502977000.00%2C502977000.00%2C502977000.00%22%2C%20%22unit%22%3A%20%22m/s%22%7D%2C%20%22type%22%3A%20%22Feature%22%7D%2C%20%7B%22bbox%22%3A%20%5B-155.4961%2C%2058.1981%2C%20-155.4961%2C%2058.1981%5D%2C%20%22geometry%22%3A%20%7B%22coordinates%22%3A%20%5B-155.4961%2C%2058.1981%5D%2C%20%22type%22%3A%20%22Point%22%7D%2C%20%22id%22%3A%20%22AV.ANCK..BH%22%2C%20%22properties%22%3A%20%7B%22component%22%3A%20%22E%2CN%2CZ%22%2C%20%22elevation%28m%29%22%3A%20869.0%2C%20%22id%22%3A%20%22AV.ANCK..BH%22%2C%20%22latitude%22%3A%2058.1981%2C%20%22longitude%22%3A%20-155.4961%2C%20%22response%22%3A%20%22316282000.00%2C316282000.00%2C316282000.00%22%2C%20%22unit%22%3A%20%22m/s%22%7D%2C%20%22type%22%3A%20%22Feature%22%7D%2C%20%7B%22bbox%22%3A%20%5B-155.2843%2C%2058.2702%2C%20-155.2843%2C%2058.2702%5D%2C%20%22geometry%22%3A%20%7B%22coordinates%22%3A%20%5B-155.2843%2C%2058.2702%5D%2C%20%22type%22%3A%20%22Point%22%7D%2C%20%22id%22%3A%20%22AV.KABU..BH%22%2C%20%22properties%22%3A%20%7B%22component%22%3A%20%22E%2CN%2CZ%22%2C%20%22elevation%28m%29%22%3A%201065.0%2C%20%22id%22%3A%20%22AV.KABU..BH%22%2C%20%22latitude%22%3A%2058.2702%2C%20%22longitude%22%3A%20-155.2843%2C%20%22response%22%3A%20%22502977000.00%2C502977000.00%2C502977000.00%22%2C%20%22unit%22%3A%20%22m/s%22%7D%2C%20%22type%22%3A%20%22Feature%22%7D%2C%20%7B%22bbox%22%3A%20%5B-154.5484%2C%2058.4933%2C%20-154.5484%2C%2058.4933%5D%2C%20%22geometry%22%3A%20%7B%22coordinates%22%3A%20%5B-154.5484%2C%2058.4933%5D%2C%20%22type%22%3A%20%22Point%22%7D%2C%20%22id%22%3A%20%22AV.KAHG..BH%22%2C%20%22properties%22%3A%20%7B%22component%22%3A%20%22E%2CN%2CZ%22%2C%20%22elevation%28m%29%22%3A%20923.0%2C%20%22id%22%3A%20%22AV.KAHG..BH%22%2C%20%22latitude%22%3A%2058.4933%2C%20%22longitude%22%3A%20-154.5484%2C%20%22response%22%3A%20%22502977000.00%2C502977000.00%2C502977000.00%22%2C%20%22unit%22%3A%20%22m/s%22%7D%2C%20%22type%22%3A%20%22Feature%22%7D%2C%20%7B%22bbox%22%3A%20%5B-154.5484%2C%2058.4933%2C%20-154.5484%2C%2058.4933%5D%2C%20%22geometry%22%3A%20%7B%22coordinates%22%3A%20%5B-154.5484%2C%2058.4933%5D%2C%20%22type%22%3A%20%22Point%22%7D%2C%20%22id%22%3A%20%22AV.KAHG..EH%22%2C%20%22properties%22%3A%20%7B%22component%22%3A%20%22Z%22%2C%20%22elevation%28m%29%22%3A%20923.0%2C%20%22id%22%3A%20%22AV.KAHG..EH%22%2C%20%22latitude%22%3A%2058.4933%2C%20%22longitude%22%3A%20-154.5484%2C%20%22response%22%3A%20%22365100000.00%22%2C%20%22unit%22%3A%20%22m/s%22%7D%2C%20%22type%22%3A%20%22Feature%22%7D%2C%20%7B%22bbox%22%3A%20%5B-155.1854%2C%2058.2426%2C%20-155.1854%2C%2058.2426%5D%2C%20%22geometry%22%3A%20%7B%22coordinates%22%3A%20%5B-155.1854%2C%2058.2426%5D%2C%20%22type%22%3A%20%22Point%22%7D%2C%20%22id%22%3A%20%22AV.KCE..EH%22%2C%20%22properties%22%3A%20%7B%22component%22%3A%20%22Z%22%2C%20%22elevation%28m%29%22%3A%20777.0%2C%20%22id%22%3A%20%22AV.KCE..EH%22%2C%20%22latitude%22%3A%2058.2426%2C%20%22longitude%22%3A%20-155.1854%2C%20%22response%22%3A%20%22365100000.00%22%2C%20%22unit%22%3A%20%22m/s%22%7D%2C%20%22type%22%3A%20%22Feature%22%7D%2C%20%7B%22bbox%22%3A%20%5B-155.1135%2C%2058.3069%2C%20-155.1135%2C%2058.3069%5D%2C%20%22geometry%22%3A%20%7B%22coordinates%22%3A%20%5B-155.1135%2C%2058.3069%5D%2C%20%22type%22%3A%20%22Point%22%7D%2C%20%22id%22%3A%20%22AV.KCG..EH%22%2C%20%22properties%22%3A%20%7B%22component%22%3A%20%22E%2CN%2CZ%22%2C%20%22elevation%28m%29%22%3A%20762.0%2C%20%22id%22%3A%20%22AV.KCG..EH%22%2C%20%22latitude%22%3A%2058.3069%2C%20%22longitude%22%3A%20-155.1135%2C%20%22response%22%3A%20%22350260000.00%2C350260000.00%2C350260000.00%22%2C%20%22unit%22%3A%20%22m/s%22%7D%2C%20%22type%22%3A%20%22Feature%22%7D%2C%20%7B%22bbox%22%3A%20%5B-155.7428%2C%2058.4393%2C%20-155.7428%2C%2058.4393%5D%2C%20%22geometry%22%3A%20%7B%22coordinates%22%3A%20%5B-155.7428%2C%2058.4393%5D%2C%20%22type%22%3A%20%22Point%22%7D%2C%20%22id%22%3A%20%22AV.KEL..EH%22%2C%20%22properties%22%3A%20%7B%22component%22%3A%20%22Z%22%2C%20%22elevation%28m%29%22%3A%20975.0%2C%20%22id%22%3A%20%22AV.KEL..EH%22%2C%20%22latitude%22%3A%2058.4393%2C%20%22longitude%22%3A%20-155.7428%2C%20%22response%22%3A%20%22715820000.00%22%2C%20%22unit%22%3A%20%22m/s%22%7D%2C%20%22type%22%3A%20%22Feature%22%7D%2C%20%7B%22bbox%22%3A%20%5B-155.5753%2C%2058.0533%2C%20-155.5753%2C%2058.0533%5D%2C%20%22geometry%22%3A%20%7B%22coordinates%22%3A%20%5B-155.5753%2C%2058.0533%5D%2C%20%22type%22%3A%20%22Point%22%7D%2C%20%22id%22%3A%20%22AV.KJL..BH%22%2C%20%22properties%22%3A%20%7B%22component%22%3A%20%22E%2CN%2CZ%22%2C%20%22elevation%28m%29%22%3A%20792.0%2C%20%22id%22%3A%20%22AV.KJL..BH%22%2C%20%22latitude%22%3A%2058.0533%2C%20%22longitude%22%3A%20-155.5753%2C%20%22response%22%3A%20%22316282000.00%2C316282000.00%2C316282000.00%22%2C%20%22unit%22%3A%20%22m/s%22%7D%2C%20%22type%22%3A%20%22Feature%22%7D%2C%20%7B%22bbox%22%3A%20%5B-155.2971%2C%2058.381%2C%20-155.2971%2C%2058.381%5D%2C%20%22geometry%22%3A%20%7B%22coordinates%22%3A%20%5B-155.2971%2C%2058.381%5D%2C%20%22type%22%3A%20%22Point%22%7D%2C%20%22id%22%3A%20%22AV.KVT..EH%22%2C%20%22properties%22%3A%20%7B%22component%22%3A%20%22Z%22%2C%20%22elevation%28m%29%22%3A%20457.0%2C%20%22id%22%3A%20%22AV.KVT..EH%22%2C%20%22latitude%22%3A%2058.381%2C%20%22longitude%22%3A%20-155.2971%2C%20%22response%22%3A%20%22365100000.00%22%2C%20%22unit%22%3A%20%22m/s%22%7D%2C%20%22type%22%3A%20%22Feature%22%7D%2C%20%7B%22bbox%22%3A%20%5B-156.4394%2C%2059.1953%2C%20-156.4394%2C%2059.1953%5D%2C%20%22geometry%22%3A%20%7B%22coordinates%22%3A%20%5B-156.4394%2C%2059.1953%5D%2C%20%22type%22%3A%20%22Point%22%7D%2C%20%22id%22%3A%20%22TA.P17K..BH%22%2C%20%22properties%22%3A%20%7B%22component%22%3A%20%22E%2CN%2CZ%22%2C%20%22elevation%28m%29%22%3A%2091.0%2C%20%22id%22%3A%20%22TA.P17K..BH%22%2C%20%22latitude%22%3A%2059.1953%2C%20%22longitude%22%3A%20-156.4394%2C%20%22response%22%3A%20%22628316000.00%2C628316000.00%2C628316000.00%22%2C%20%22unit%22%3A%20%22m/s%22%7D%2C%20%22type%22%3A%20%22Feature%22%7D%2C%20%7B%22bbox%22%3A%20%5B-156.6556%2C%2058.6774%2C%20-156.6556%2C%2058.6774%5D%2C%20%22geometry%22%3A%20%7B%22coordinates%22%3A%20%5B-156.6556%2C%2058.6774%5D%2C%20%22type%22%3A%20%22Point%22%7D%2C%20%22id%22%3A%20%22TA.Q16K..BH%22%2C%20%22properties%22%3A%20%7B%22component%22%3A%20%22E%2CN%2CZ%22%2C%20%22elevation%28m%29%22%3A%2022.0%2C%20%22id%22%3A%20%22TA.Q16K..BH%22%2C%20%22latitude%22%3A%2058.6774%2C%20%22longitude%22%3A%20-156.6556%2C%20%22response%22%3A%20%22628316000.00%2C628316000.00%2C628316000.00%22%2C%20%22unit%22%3A%20%22m/s%22%7D%2C%20%22type%22%3A%20%22Feature%22%7D%2C%20%7B%22bbox%22%3A%20%5B-155.0086%2C%2058.6484%2C%20-155.0086%2C%2058.6484%5D%2C%20%22geometry%22%3A%20%7B%22coordinates%22%3A%20%5B-155.0086%2C%2058.6484%5D%2C%20%22type%22%3A%20%22Point%22%7D%2C%20%22id%22%3A%20%22TA.Q18K..BH%22%2C%20%22properties%22%3A%20%7B%22component%22%3A%20%22E%2CN%2CZ%22%2C%20%22elevation%28m%29%22%3A%201250.0%2C%20%22id%22%3A%20%22TA.Q18K..BH%22%2C%20%22latitude%22%3A%2058.6484%2C%20%22longitude%22%3A%20-155.0086%2C%20%22response%22%3A%20%22628316000.00%2C628316000.00%2C628316000.00%22%2C%20%22unit%22%3A%20%22m/s%22%7D%2C%20%22type%22%3A%20%22Feature%22%7D%2C%20%7B%22bbox%22%3A%20%5B-154.4524%2C%2057.5665%2C%20-154.4524%2C%2057.5665%5D%2C%20%22geometry%22%3A%20%7B%22coordinates%22%3A%20%5B-154.4524%2C%2057.5665%5D%2C%20%22type%22%3A%20%22Point%22%7D%2C%20%22id%22%3A%20%22TA.R18K..BH%22%2C%20%22properties%22%3A%20%7B%22component%22%3A%20%22E%2CN%2CZ%22%2C%20%22elevation%28m%29%22%3A%2039.0%2C%20%22id%22%3A%20%22TA.R18K..BH%22%2C%20%22latitude%22%3A%2057.5665%2C%20%22longitude%22%3A%20-154.4524%2C%20%22response%22%3A%20%22628316000.00%2C628316000.00%2C628316000.00%22%2C%20%22unit%22%3A%20%22m/s%22%7D%2C%20%22type%22%3A%20%22Feature%22%7D%2C%20%7B%22bbox%22%3A%20%5B-155.0867%2C%2058.9664%2C%20-155.0867%2C%2058.9664%5D%2C%20%22geometry%22%3A%20%7B%22coordinates%22%3A%20%5B-155.0867%2C%2058.9664%5D%2C%20%22type%22%3A%20%22Point%22%7D%2C%20%22id%22%3A%20%22XO.EP15..HH%22%2C%20%22properties%22%3A%20%7B%22component%22%3A%20%22E%2CN%2CZ%22%2C%20%22elevation%28m%29%22%3A%20249.0%2C%20%22id%22%3A%20%22XO.EP15..HH%22%2C%20%22latitude%22%3A%2058.9664%2C%20%22longitude%22%3A%20-155.0867%2C%20%22response%22%3A%20%22503939000.00%2C503939000.00%2C503939000.00%22%2C%20%22unit%22%3A%20%22m/s%22%7D%2C%20%22type%22%3A%20%22Feature%22%7D%2C%20%7B%22bbox%22%3A%20%5B-156.265%2C%2058.6097%2C%20-156.265%2C%2058.6097%5D%2C%20%22geometry%22%3A%20%7B%22coordinates%22%3A%20%5B-156.265%2C%2058.6097%5D%2C%20%22type%22%3A%20%22Point%22%7D%2C%20%22id%22%3A%20%22XO.ET17..HH%22%2C%20%22properties%22%3A%20%7B%22component%22%3A%20%22E%2CN%2CZ%22%2C%20%22elevation%28m%29%22%3A%2051.0%2C%20%22id%22%3A%20%22XO.ET17..HH%22%2C%20%22latitude%22%3A%2058.6097%2C%20%22longitude%22%3A%20-156.265%2C%20%22response%22%3A%20%22503939000.00%2C503939000.00%2C503939000.00%22%2C%20%22unit%22%3A%20%22m/s%22%7D%2C%20%22type%22%3A%20%22Feature%22%7D%2C%20%7B%22bbox%22%3A%20%5B-155.4394%2C%2058.3686%2C%20-155.4394%2C%2058.3686%5D%2C%20%22geometry%22%3A%20%7B%22coordinates%22%3A%20%5B-155.4394%2C%2058.3686%5D%2C%20%22type%22%3A%20%22Point%22%7D%2C%20%22id%22%3A%20%22XO.ET19..HH%22%2C%20%22properties%22%3A%20%7B%22component%22%3A%20%22E%2CN%2CZ%22%2C%20%22elevation%28m%29%22%3A%20322.0%2C%20%22id%22%3A%20%22XO.ET19..HH%22%2C%20%22latitude%22%3A%2058.3686%2C%20%22longitude%22%3A%20-155.4394%2C%20%22response%22%3A%20%22503939000.00%2C503939000.00%2C503939000.00%22%2C%20%22unit%22%3A%20%22m/s%22%7D%2C%20%22type%22%3A%20%22Feature%22%7D%2C%20%7B%22bbox%22%3A%20%5B-154.9716%2C%2058.1304%2C%20-154.9716%2C%2058.1304%5D%2C%20%22geometry%22%3A%20%7B%22coordinates%22%3A%20%5B-154.9716%2C%2058.1304%5D%2C%20%22type%22%3A%20%22Point%22%7D%2C%20%22id%22%3A%20%22XO.ET20..HH%22%2C%20%22properties%22%3A%20%7B%22component%22%3A%20%22E%2CN%2CZ%22%2C%20%22elevation%28m%29%22%3A%20965.5%2C%20%22id%22%3A%20%22XO.ET20..HH%22%2C%20%22latitude%22%3A%2058.1304%2C%20%22longitude%22%3A%20-154.9716%2C%20%22response%22%3A%20%22503939000.00%2C503939000.00%2C503939000.00%22%2C%20%22unit%22%3A%20%22m/s%22%7D%2C%20%22type%22%3A%20%22Feature%22%7D%2C%20%7B%22bbox%22%3A%20%5B-154.0041%2C%2057.6517%2C%20-154.0041%2C%2057.6517%5D%2C%20%22geometry%22%3A%20%7B%22coordinates%22%3A%20%5B-154.0041%2C%2057.6517%5D%2C%20%22type%22%3A%20%22Point%22%7D%2C%20%22id%22%3A%20%22XO.KT06..HH%22%2C%20%22properties%22%3A%20%7B%22component%22%3A%20%22E%2CN%2CZ%22%2C%20%22elevation%28m%29%22%3A%2046.0%2C%20%22id%22%3A%20%22XO.KT06..HH%22%2C%20%22latitude%22%3A%2057.6517%2C%20%22longitude%22%3A%20-154.0041%2C%20%22response%22%3A%20%22503939000.00%2C503939000.00%2C503939000.00%22%2C%20%22unit%22%3A%20%22m/s%22%7D%2C%20%22type%22%3A%20%22Feature%22%7D%5D%2C%20%22type%22%3A%20%22FeatureCollection%22%7D%29%3B%0A%0A%20%20%20%20%20%20%20%20%0A%20%20%20%20%0A%20%20%20%20geo_json_fc9e97c089054453b33395335bfd341d.bindTooltip%28%0A%20%20%20%20function%28layer%29%7B%0A%20%20%20%20let%20div%20%3D%20L.DomUtil.create%28%27div%27%29%3B%0A%20%20%20%20%0A%20%20%20%20let%20handleObject%20%3D%20feature%3D%3Etypeof%28feature%29%3D%3D%27object%27%20%3F%20JSON.stringify%28feature%29%20%3A%20feature%3B%0A%20%20%20%20let%20fields%20%3D%20%5B%22longitude%22%2C%20%22latitude%22%2C%20%22elevation%28m%29%22%2C%20%22component%22%2C%20%22response%22%2C%20%22unit%22%2C%20%22id%22%5D%3B%0A%20%20%20%20let%20aliases%20%3D%20%5B%22longitude%22%2C%20%22latitude%22%2C%20%22elevation%28m%29%22%2C%20%22component%22%2C%20%22response%22%2C%20%22unit%22%2C%20%22id%22%5D%3B%0A%20%20%20%20let%20table%20%3D%20%27%3Ctable%3E%27%20%2B%0A%20%20%20%20%20%20%20%20String%28%0A%20%20%20%20%20%20%20%20fields.map%28%0A%20%20%20%20%20%20%20%20%28v%2Ci%29%3D%3E%0A%20%20%20%20%20%20%20%20%60%3Ctr%3E%0A%20%20%20%20%20%20%20%20%20%20%20%20%3Cth%3E%24%7Baliases%5Bi%5D%7D%3C/th%3E%0A%20%20%20%20%20%20%20%20%20%20%20%20%0A%20%20%20%20%20%20%20%20%20%20%20%20%3Ctd%3E%24%7BhandleObject%28layer.feature.properties%5Bv%5D%29%7D%3C/td%3E%0A%20%20%20%20%20%20%20%20%3C/tr%3E%60%29.join%28%27%27%29%29%0A%20%20%20%20%2B%27%3C/table%3E%27%3B%0A%20%20%20%20div.innerHTML%3Dtable%3B%0A%20%20%20%20%0A%20%20%20%20return%20div%0A%20%20%20%20%7D%0A%20%20%20%20%2C%7B%22className%22%3A%20%22foliumtooltip%22%2C%20%22sticky%22%3A%20true%7D%29%3B%0A%20%20%20%20%20%20%20%20%20%20%20%20%20%20%20%20%20%20%20%20%20%0A%3C/script%3E onload=\"this.contentDocument.open();this.contentDocument.write(    decodeURIComponent(this.getAttribute('data-html')));this.contentDocument.close();\" allowfullscreen webkitallowfullscreen mozallowfullscreen></iframe></div></div>"
      ],
      "text/plain": [
       "<folium.folium.Map at 0x14c49b8e0>"
      ]
     },
     "execution_count": 163,
     "metadata": {},
     "output_type": "execute_result"
    }
   ],
   "source": [
    "# Interactive visualization with geopandas geodataframe\n",
    "gf = gpd.GeoDataFrame(station_locs.copy(), \n",
    "                      geometry=gpd.points_from_xy(station_locs.longitude, station_locs.latitude),\n",
    "                      crs=4326,\n",
    "                     )\n",
    "\n",
    "gf.to_file('alaska_stations.json', driver='GeoJSON')\n",
    "\n",
    "gf.explore()"
   ]
  },
  {
   "cell_type": "markdown",
   "id": "faae9c66-92c5-4f5a-8f75-1cd26a8a4904",
   "metadata": {},
   "source": [
    "### Now that we have an event picked out and the list of stations that have picks for it, let's download some data!"
   ]
  },
  {
   "cell_type": "code",
   "execution_count": 164,
   "id": "8f0fa425-466c-4f4e-9d2f-dfa3a666ba47",
   "metadata": {},
   "outputs": [],
   "source": [
    "client = Client(\"iris\")\n",
    "interval = 30 #s\n",
    "# interval = 3600 #s\n",
    "\n",
    "# for event in events:\n",
    "def download(event, stations):\n",
    "    '''\n",
    "    For a given 'event' and 'stations' list download 30 second waveforms w/ 100Hz samping rate\n",
    "    \n",
    "    Output: obspy miniseed stream\n",
    "    '''\n",
    "    starttime = event[\"origins\"][0].time\n",
    "    endtime = starttime + interval\n",
    "\n",
    "    max_retry = 10\n",
    "    stream = obspy.Stream()\n",
    "    num_sta = 0\n",
    "    for network in stations:\n",
    "        for station in network:\n",
    "            print(f\"********{network.code}.{station.code}********\")\n",
    "            retry = 0\n",
    "            while retry < max_retry:\n",
    "                try:\n",
    "                    tmp = client.get_waveforms(\n",
    "                        network.code, station.code, \"*\", channel, starttime, endtime\n",
    "                    )\n",
    "                    for trace in tmp:\n",
    "                        if trace.stats.sampling_rate != 100:\n",
    "                            # print(trace)\n",
    "                            trace = trace.interpolate(100, method=\"linear\")\n",
    "                    #      trace = trace.detrend(\"spline\", order=2, dspline=5*trace.stats.sampling_rate)\n",
    "                    #      stream.append(trace)\n",
    "                    stream += tmp\n",
    "                    num_sta += len(tmp)\n",
    "                    break\n",
    "                except Exception as err:\n",
    "                    print(\"Error {}.{}: {}\".format(network.code, station.code, err))\n",
    "                    message = \"No data available for request.\"\n",
    "                    if str(err)[: len(message)] == message:\n",
    "                        break\n",
    "                    retry += 1\n",
    "                    time.sleep(5)\n",
    "                    continue\n",
    "            if retry == max_retry:\n",
    "                print(f\"{fname}: MAX {max_retry} retries reached : {network.code}.{station.code}\")\n",
    "            \n",
    "    # stream.attach_response(stations)\n",
    "    # stream = stream.remove_sensitivity()\n",
    "    return stream"
   ]
  },
  {
   "cell_type": "code",
   "execution_count": 165,
   "id": "1af76e59-e300-40a6-9295-0c6dc7221aaf",
   "metadata": {},
   "outputs": [
    {
     "name": "stdout",
     "output_type": "stream",
     "text": [
      "********AV.ACH********\n",
      "********AV.ANCK********\n",
      "********AV.KABU********\n",
      "********AV.KAHG********\n",
      "********AV.KCE********\n",
      "********AV.KCG********\n",
      "********AV.KEL********\n",
      "********AV.KJL********\n",
      "********AV.KVT********\n",
      "********TA.P17K********\n",
      "********TA.Q16K********\n",
      "********TA.Q18K********\n",
      "********TA.R18K********\n",
      "********XO.EP15********\n",
      "********XO.ET17********\n",
      "********XO.ET19********\n",
      "********XO.ET20********\n",
      "********XO.KT06********\n"
     ]
    }
   ],
   "source": [
    "mseed = download(event, sta_metadata)"
   ]
  },
  {
   "cell_type": "code",
   "execution_count": 249,
   "id": "6e04da59-abbd-4eeb-b227-a42695bcb300",
   "metadata": {},
   "outputs": [
    {
     "data": {
      "text/plain": [
       "Inventory created at 2022-01-07T00:38:38.664000Z\n",
       "\tCreated by: IRIS WEB SERVICE: fdsnws-station | version: 1.1.48\n",
       "\t\t    http://service.iris.edu/fdsnws/station/1/query?starttime=2018-10-01...\n",
       "\tSending institution: IRIS-DMC (IRIS-DMC)\n",
       "\tContains:\n",
       "\t\tNetworks (3):\n",
       "\t\t\tAV, TA, XO\n",
       "\t\tStations (18):\n",
       "\t\t\tAV.ACH (Angle Creek Headwaters, Katmai, Alaska)\n",
       "\t\t\tAV.ANCK (Angle Creek, Katmai Volcanic Cluster, Alaska)\n",
       "\t\t\tAV.KABU (KABU - Katmai Volcanic Cluster, Alaska)\n",
       "\t\t\tAV.KAHG (Katmai Hook Glacier, Alaska)\n",
       "\t\t\tAV.KCE (Katmai Cerebus, Alaska)\n",
       "\t\t\tAV.KCG (Knife Creek Glacier, Katmai, Alaska)\n",
       "\t\t\tAV.KEL (Katmai Kelez, Alaska)\n",
       "\t\t\tAV.KJL (Kejulik, Katmai, Alaska)\n",
       "\t\t\tAV.KVT (Katmai Valley of 10,000 Smokes, Alaska)\n",
       "\t\t\tTA.P17K (Kvichak River, AK, USA)\n",
       "\t\t\tTA.Q16K (King Salmon, AK, USA)\n",
       "\t\t\tTA.Q18K (Katmai Hardscrabble Creek, AK, USA)\n",
       "\t\t\tTA.R18K (Karluk, AK, USA)\n",
       "\t\t\tXO.EP15 (Kulic Lake, AK)\n",
       "\t\t\tXO.ET17 (Naknek Lake, AK)\n",
       "\t\t\tXO.ET19 (Valley10K Smokes, AK)\n",
       "\t\t\tXO.ET20 (Barrier Range, AK)\n",
       "\t\t\tXO.KT06 (Harverster Island, AK)\n",
       "\t\tChannels (49):\n",
       "\t\t\tAV.ACH..BHZ, AV.ACH..BHN, AV.ACH..BHE, AV.ANCK..BHZ, AV.ANCK..BHN, \n",
       "\t\t\tAV.ANCK..BHE, AV.KABU..BHZ, AV.KABU..BHN, AV.KABU..BHE, \n",
       "\t\t\tAV.KAHG..BHZ, AV.KAHG..BHN, AV.KAHG..BHE, AV.KAHG..EHZ, AV.KCE..EHZ\n",
       "\t\t\tAV.KCG..EHZ, AV.KCG..EHN, AV.KCG..EHE, AV.KEL..EHZ, AV.KJL..BHZ, \n",
       "\t\t\tAV.KJL..BHN, AV.KJL..BHE, AV.KVT..EHZ, TA.P17K..BHZ, TA.P17K..BHN, \n",
       "\t\t\tTA.P17K..BHE, TA.Q16K..BHZ, TA.Q16K..BHN, TA.Q16K..BHE, \n",
       "\t\t\tTA.Q18K..BHZ, TA.Q18K..BHN, TA.Q18K..BHE, TA.R18K..BHZ, \n",
       "\t\t\tTA.R18K..BHN, TA.R18K..BHE, XO.EP15..HHZ, XO.EP15..HHN, \n",
       "\t\t\tXO.EP15..HHE, XO.ET17..HHZ, XO.ET17..HHN, XO.ET17..HHE, \n",
       "\t\t\tXO.ET19..HHZ, XO.ET19..HHN, XO.ET19..HHE, XO.ET20..HHZ, \n",
       "\t\t\tXO.ET20..HHN, XO.ET20..HHE, XO.KT06..HHZ, XO.KT06..HHN, \n",
       "\t\t\tXO.KT06..HHE"
      ]
     },
     "execution_count": 249,
     "metadata": {},
     "output_type": "execute_result"
    }
   ],
   "source": [
    "sta_metadata"
   ]
  },
  {
   "cell_type": "code",
   "execution_count": 166,
   "id": "f0780822-a793-4b4c-8f1f-8566bb9b07df",
   "metadata": {},
   "outputs": [
    {
     "data": {
      "text/plain": [
       "46 Trace(s) in Stream:\n",
       "\n",
       "AV.ACH..BHE | 2018-10-01T09:42:17.908000Z - 2018-10-01T09:42:47.888000Z | 100.0 Hz, 2999 samples\n",
       "...\n",
       "(44 other traces)\n",
       "...\n",
       "XO.KT06..HHZ | 2018-10-01T09:42:17.910000Z - 2018-10-01T09:42:47.900000Z | 100.0 Hz, 3000 samples\n",
       "\n",
       "[Use \"print(Stream.__str__(extended=True))\" to print all Traces]"
      ]
     },
     "execution_count": 166,
     "metadata": {},
     "output_type": "execute_result"
    }
   ],
   "source": [
    "mseed"
   ]
  },
  {
   "cell_type": "code",
   "execution_count": 167,
   "id": "04129f0e-e0f3-49c2-9ae8-c62a5cd77571",
   "metadata": {},
   "outputs": [
    {
     "data": {
      "image/png": "[encoded data removed]",
      "text/plain": [
       "<Figure size 800x750 with 3 Axes>"
      ]
     },
     "metadata": {
      "needs_background": "light"
     },
     "output_type": "display_data"
    }
   ],
   "source": [
    "t = mseed[0:3].plot()"
   ]
  },
  {
   "cell_type": "markdown",
   "id": "3ff7b375-a223-48fd-bb66-305c5c0d4af4",
   "metadata": {},
   "source": [
    "#### Convert to numpy arrays"
   ]
  },
  {
   "cell_type": "code",
   "execution_count": 168,
   "id": "50431ba4-1112-43de-9bf7-8029d8287d7f",
   "metadata": {},
   "outputs": [],
   "source": [
    "sampling_rate = 100\n",
    "n_channel = 3\n",
    "dtype = \"float32\"\n",
    "amplitude = True\n",
    "remove_resp = True\n",
    "\n",
    "def convert_mseed(mseed, station_locs):\n",
    "    try:\n",
    "        mseed = mseed.detrend(\"spline\", order=2, dspline=5 * mseed[0].stats.sampling_rate)\n",
    "    except:\n",
    "        logging.error(f\"Error: spline detrend failed at file {fname}\")\n",
    "        mseed = mseed.detrend(\"demean\")\n",
    "    mseed = mseed.merge(fill_value=0)\n",
    "    starttime = min([st.stats.starttime for st in mseed])\n",
    "    endtime = max([st.stats.endtime for st in mseed])\n",
    "    mseed = mseed.trim(starttime, endtime, pad=True, fill_value=0)\n",
    "\n",
    "    for i in range(len(mseed)):\n",
    "        if mseed[i].stats.sampling_rate != sampling_rate:\n",
    "            logging.warning(\n",
    "                f\"Resampling {mseed[i].id} from {mseed[i].stats.sampling_rate} to {sampling_rate} Hz\"\n",
    "            )\n",
    "            mseed[i] = mseed[i].interpolate(sampling_rate, method=\"linear\")\n",
    "\n",
    "    order = ['3', '2', '1', 'E', 'N', 'Z']\n",
    "    order = {key: i for i, key in enumerate(order)}\n",
    "    comp2idx = {\"3\": 0, \"2\": 1, \"1\": 2, \"E\": 0, \"N\": 1, \"Z\": 2}\n",
    "\n",
    "    nsta = len(station_locs)\n",
    "    nt = max(len(mseed[i].data) for i in range(len(mseed)))\n",
    "    data = []\n",
    "    station_id = []\n",
    "    t0 = []\n",
    "    for i in range(nsta):\n",
    "        trace_data = np.zeros([nt, n_channel], dtype=dtype)\n",
    "        empty_station = True\n",
    "        # sta = station_locs.iloc[i][\"station\"]\n",
    "        sta = station_locs.index[i]\n",
    "        comp = station_locs.iloc[i][\"component\"].split(\",\")\n",
    "        if remove_resp:\n",
    "            resp = station_locs.iloc[i][\"response\"].split(\",\")\n",
    "            # resp = station_locs.iloc[i][\"response\"]\n",
    "\n",
    "        for j, c in enumerate(sorted(comp, key=lambda x: order[x[-1]])):\n",
    "\n",
    "            resp_j = float(resp[j])\n",
    "            \n",
    "            \n",
    "            if len(comp) != 3:  ## less than 3 component\n",
    "                j = comp2idx[c]\n",
    "\n",
    "            if len(mseed.select(id=sta + c)) == 0:\n",
    "                print(f\"Empty trace: {sta+c} {starttime}\")\n",
    "                continue\n",
    "            else:\n",
    "                empty_station = False\n",
    "\n",
    "            tmp = mseed.select(id=sta + c)[0].data.astype(dtype)\n",
    "            trace_data[: len(tmp), j] = tmp[:nt]\n",
    "\n",
    "            if station_locs.iloc[i][\"unit\"] == \"m/s**2\":\n",
    "                tmp = mseed.select(id=sta + c)[0]\n",
    "                tmp = tmp.integrate()\n",
    "                tmp = tmp.filter(\"highpass\", freq=1.0)\n",
    "                tmp = tmp.data.astype(dtype)\n",
    "                trace_data[: len(tmp), j] = tmp[:nt]\n",
    "            elif station_locs.iloc[i][\"unit\"] == \"m/s\":\n",
    "                tmp = mseed.select(id=sta + c)[0].data.astype(dtype)\n",
    "                trace_data[: len(tmp), j] = tmp[:nt]\n",
    "            else:\n",
    "                print(\n",
    "                    f\"Error in {station_locs.iloc[i]['station']}\\n{station_locs.iloc[i]['unit']} should be m/s**2 or m/s!\"\n",
    "                )\n",
    "            \n",
    "            if remove_resp:\n",
    "                trace_data[:, j] /= resp_j\n",
    "                \n",
    "        if not empty_station:\n",
    "            data.append(trace_data)\n",
    "            station_id.append(sta)\n",
    "            t0.append(starttime.strftime(\"%Y-%m-%dT%H:%M:%S.%f\")[:-3])\n",
    "\n",
    "    data = np.stack(data)\n",
    "\n",
    "    meta = {\"data\": data, \"t0\": t0, \"station_id\": station_id, \"fname\": station_id}\n",
    "    \n",
    "    \n",
    "    return meta"
   ]
  },
  {
   "cell_type": "code",
   "execution_count": 170,
   "id": "16fb6277-c008-4643-9ede-f11957d0b12f",
   "metadata": {},
   "outputs": [
    {
     "name": "stdout",
     "output_type": "stream",
     "text": [
      "Empty trace: AV.KAHG..EHZ 2018-10-01T09:42:17.908000Z\n",
      "Empty trace: AV.KJL..BHE 2018-10-01T09:42:17.908000Z\n",
      "Empty trace: AV.KJL..BHN 2018-10-01T09:42:17.908000Z\n"
     ]
    }
   ],
   "source": [
    "meta = convert_mseed(mseed, station_locs)"
   ]
  },
  {
   "cell_type": "markdown",
   "id": "2b574e47-ce1f-4c92-90f4-fc45fd724497",
   "metadata": {},
   "source": [
    "## P/S Picks Phasenet\n",
    "\n",
    "The code below calls an API, posting a dictionary containing 'id', 'timestamp', 'numpy array' passed as a python list, and returns JSON with model-generated P and S picks (time, probability, type)\n"
   ]
  },
  {
   "cell_type": "code",
   "execution_count": 171,
   "id": "c39ff1e0-fde6-4acf-9d7c-94f6a47611e0",
   "metadata": {},
   "outputs": [
    {
     "name": "stdout",
     "output_type": "stream",
     "text": [
      "PhaseNet picks\n",
      "CPU times: user 250 ms, sys: 21.6 ms, total: 272 ms\n",
      "Wall time: 6.03 s\n"
     ]
    },
    {
     "data": {
      "text/html": [
       "<div>\n",
       "<style scoped>\n",
       "    .dataframe tbody tr th:only-of-type {\n",
       "        vertical-align: middle;\n",
       "    }\n",
       "\n",
       "    .dataframe tbody tr th {\n",
       "        vertical-align: top;\n",
       "    }\n",
       "\n",
       "    .dataframe thead th {\n",
       "        text-align: right;\n",
       "    }\n",
       "</style>\n",
       "<table border=\"1\" class=\"dataframe\">\n",
       "  <thead>\n",
       "    <tr style=\"text-align: right;\">\n",
       "      <th></th>\n",
       "      <th>id</th>\n",
       "      <th>timestamp</th>\n",
       "      <th>prob</th>\n",
       "      <th>amp</th>\n",
       "      <th>type</th>\n",
       "    </tr>\n",
       "  </thead>\n",
       "  <tbody>\n",
       "    <tr>\n",
       "      <th>0</th>\n",
       "      <td>AV.ACH..BH</td>\n",
       "      <td>2018-10-01T09:42:19.528</td>\n",
       "      <td>0.976541</td>\n",
       "      <td>0.000076</td>\n",
       "      <td>p</td>\n",
       "    </tr>\n",
       "    <tr>\n",
       "      <th>1</th>\n",
       "      <td>AV.ACH..BH</td>\n",
       "      <td>2018-10-01T09:42:20.918</td>\n",
       "      <td>0.930866</td>\n",
       "      <td>0.000076</td>\n",
       "      <td>s</td>\n",
       "    </tr>\n",
       "    <tr>\n",
       "      <th>2</th>\n",
       "      <td>AV.ANCK..BH</td>\n",
       "      <td>2018-10-01T09:42:21.368</td>\n",
       "      <td>0.914994</td>\n",
       "      <td>0.000003</td>\n",
       "      <td>p</td>\n",
       "    </tr>\n",
       "    <tr>\n",
       "      <th>3</th>\n",
       "      <td>AV.ANCK..BH</td>\n",
       "      <td>2018-10-01T09:42:23.798</td>\n",
       "      <td>0.851268</td>\n",
       "      <td>0.000003</td>\n",
       "      <td>s</td>\n",
       "    </tr>\n",
       "    <tr>\n",
       "      <th>4</th>\n",
       "      <td>AV.KABU..BH</td>\n",
       "      <td>2018-10-01T09:42:19.308</td>\n",
       "      <td>0.981695</td>\n",
       "      <td>0.000031</td>\n",
       "      <td>p</td>\n",
       "    </tr>\n",
       "  </tbody>\n",
       "</table>\n",
       "</div>"
      ],
      "text/plain": [
       "            id                timestamp      prob       amp type\n",
       "0   AV.ACH..BH  2018-10-01T09:42:19.528  0.976541  0.000076    p\n",
       "1   AV.ACH..BH  2018-10-01T09:42:20.918  0.930866  0.000076    s\n",
       "2  AV.ANCK..BH  2018-10-01T09:42:21.368  0.914994  0.000003    p\n",
       "3  AV.ANCK..BH  2018-10-01T09:42:23.798  0.851268  0.000003    s\n",
       "4  AV.KABU..BH  2018-10-01T09:42:19.308  0.981695  0.000031    p"
      ]
     },
     "execution_count": 171,
     "metadata": {},
     "output_type": "execute_result"
    }
   ],
   "source": [
    "%%time\n",
    "\n",
    "PHASENET_API_URL = \"http://phasenet.quakeflow.com\"\n",
    "\n",
    "# req = {\"id\": meta[\"station_id\"], \n",
    "#        \"timestamp\": meta[\"t0\"],\n",
    "#        \"vec\": meta[\"data\"].tolist()}\n",
    "# resp = requests.post(f'{PHASENET_API_URL}/predict', json=req)\n",
    "# phasenet_picks = resp.json()\n",
    "\n",
    "batch = 4\n",
    "phasenet_picks = []\n",
    "for j in range(0, len(meta[\"station_id\"]), batch):\n",
    "    req = {\"id\": meta['station_id'][j:j+batch],\n",
    "        \"timestamp\": meta[\"t0\"][j:j+batch],\n",
    "        \"vec\": meta[\"data\"][j:j+batch].tolist()}\n",
    "\n",
    "    resp = requests.post(f'{PHASENET_API_URL}/predict', json=req)\n",
    "    phasenet_picks.extend(resp.json())\n",
    "\n",
    "print('PhaseNet picks')\n",
    "df = pd.DataFrame(phasenet_picks)\n",
    "df.head()"
   ]
  },
  {
   "cell_type": "markdown",
   "id": "e4c59ec7-9560-4965-a79e-943add1a0c5e",
   "metadata": {
    "tags": []
   },
   "source": [
    "## GaMMA\n",
    "\n",
    "Takes a set of P- and S-wave arrival picks from a network of stations and associates them into individual earthquake events\n",
    "\n",
    "\n",
    "NOTE: x,y,z domain bounds are set as parameters. Again, data is passed in JSON format as lists of phasenet_picks and station locations"
   ]
  },
  {
   "cell_type": "code",
   "execution_count": 239,
   "id": "433ad755-7c57-4b3c-9fb1-59a116f40915",
   "metadata": {},
   "outputs": [
    {
     "name": "stdout",
     "output_type": "stream",
     "text": [
      "GaMMA catalog:\n"
     ]
    },
    {
     "data": {
      "text/html": [
       "<div>\n",
       "<style scoped>\n",
       "    .dataframe tbody tr th:only-of-type {\n",
       "        vertical-align: middle;\n",
       "    }\n",
       "\n",
       "    .dataframe tbody tr th {\n",
       "        vertical-align: top;\n",
       "    }\n",
       "\n",
       "    .dataframe thead th {\n",
       "        text-align: right;\n",
       "    }\n",
       "</style>\n",
       "<table border=\"1\" class=\"dataframe\">\n",
       "  <thead>\n",
       "    <tr style=\"text-align: right;\">\n",
       "      <th></th>\n",
       "      <th>time</th>\n",
       "      <th>latitude</th>\n",
       "      <th>longitude</th>\n",
       "      <th>depth(m)</th>\n",
       "      <th>magnitude</th>\n",
       "      <th>covariance</th>\n",
       "    </tr>\n",
       "  </thead>\n",
       "  <tbody>\n",
       "    <tr>\n",
       "      <th>0</th>\n",
       "      <td>2018-10-01T09:42:15.237</td>\n",
       "      <td>58.17243</td>\n",
       "      <td>-155.232183</td>\n",
       "      <td>13715.249876</td>\n",
       "      <td>1.941594</td>\n",
       "      <td>2.224,0.391,0.278</td>\n",
       "    </tr>\n",
       "  </tbody>\n",
       "</table>\n",
       "</div>"
      ],
      "text/plain": [
       "                      time  latitude   longitude      depth(m)  magnitude  \\\n",
       "0  2018-10-01T09:42:15.237  58.17243 -155.232183  13715.249876   1.941594   \n",
       "\n",
       "          covariance  \n",
       "0  2.224,0.391,0.278  "
      ]
     },
     "metadata": {},
     "output_type": "display_data"
    },
    {
     "name": "stdout",
     "output_type": "stream",
     "text": [
      "GaMMA association:\n"
     ]
    }
   ],
   "source": [
    "config = {}\n",
    "config[\"xlim_degree\"] = [-170,-140]\n",
    "config[\"ylim_degree\"] = [50,65]\n",
    "\n",
    "GAMMA_API_URL = \"http://gamma.quakeflow.com\"\n",
    "\n",
    "# stations_json = json.loads(station_locs.to_json(orient=\"records\"))\n",
    "stations_json = station_locs.to_dict(orient=\"records\")\n",
    "config_gamma = {'xlim_degree': config[\"xlim_degree\"], \n",
    "                'ylim_degree': config[\"ylim_degree\"],\n",
    "                'z(km)': [0, 41]}\n",
    "\n",
    "result = requests.post(f'{GAMMA_API_URL}/predict', json= {\"picks\": phasenet_picks, \n",
    "                                                          \"stations\": stations_json,\n",
    "                                                           \"config\": config_gamma})\n",
    "\n",
    "result = result.json()\n",
    "catalog_gamma = result[\"catalog\"]\n",
    "picks_gamma = result[\"picks\"]\n",
    "print(\"GaMMA catalog:\")\n",
    "dfC = pd.DataFrame(catalog_gamma)[[\"time\", \"latitude\", \"longitude\", \"depth(m)\", \"magnitude\", \"covariance\"]]\n",
    "display(dfC)\n",
    "print(\"GaMMA association:\")\n",
    "dfA = pd.DataFrame(picks_gamma)\n",
    "# display(dfA)"
   ]
  },
  {
   "cell_type": "markdown",
   "id": "7284d91e-ad5c-4bd8-a0c6-35387d204343",
   "metadata": {},
   "source": [
    "## OR, you can do both at the same time:"
   ]
  },
  {
   "cell_type": "code",
   "execution_count": 245,
   "id": "3c435dbc-ce15-422d-b412-b31119514be9",
   "metadata": {},
   "outputs": [
    {
     "name": "stdout",
     "output_type": "stream",
     "text": [
      "Catalog:\n"
     ]
    },
    {
     "data": {
      "text/html": [
       "<div>\n",
       "<style scoped>\n",
       "    .dataframe tbody tr th:only-of-type {\n",
       "        vertical-align: middle;\n",
       "    }\n",
       "\n",
       "    .dataframe tbody tr th {\n",
       "        vertical-align: top;\n",
       "    }\n",
       "\n",
       "    .dataframe thead th {\n",
       "        text-align: right;\n",
       "    }\n",
       "</style>\n",
       "<table border=\"1\" class=\"dataframe\">\n",
       "  <thead>\n",
       "    <tr style=\"text-align: right;\">\n",
       "      <th></th>\n",
       "      <th>time</th>\n",
       "      <th>latitude</th>\n",
       "      <th>longitude</th>\n",
       "      <th>depth(m)</th>\n",
       "      <th>magnitude</th>\n",
       "      <th>covariance</th>\n",
       "    </tr>\n",
       "  </thead>\n",
       "  <tbody>\n",
       "    <tr>\n",
       "      <th>0</th>\n",
       "      <td>2018-10-01T09:42:15.237</td>\n",
       "      <td>58.17243</td>\n",
       "      <td>-155.232183</td>\n",
       "      <td>13715.249876</td>\n",
       "      <td>1.941594</td>\n",
       "      <td>2.224,0.391,0.278</td>\n",
       "    </tr>\n",
       "  </tbody>\n",
       "</table>\n",
       "</div>"
      ],
      "text/plain": [
       "                      time  latitude   longitude      depth(m)  magnitude  \\\n",
       "0  2018-10-01T09:42:15.237  58.17243 -155.232183  13715.249876   1.941594   \n",
       "\n",
       "          covariance  \n",
       "0  2.224,0.391,0.278  "
      ]
     },
     "metadata": {},
     "output_type": "display_data"
    },
    {
     "name": "stdout",
     "output_type": "stream",
     "text": [
      "Association:\n"
     ]
    },
    {
     "data": {
      "text/html": [
       "<div>\n",
       "<style scoped>\n",
       "    .dataframe tbody tr th:only-of-type {\n",
       "        vertical-align: middle;\n",
       "    }\n",
       "\n",
       "    .dataframe tbody tr th {\n",
       "        vertical-align: top;\n",
       "    }\n",
       "\n",
       "    .dataframe thead th {\n",
       "        text-align: right;\n",
       "    }\n",
       "</style>\n",
       "<table border=\"1\" class=\"dataframe\">\n",
       "  <thead>\n",
       "    <tr style=\"text-align: right;\">\n",
       "      <th></th>\n",
       "      <th>id</th>\n",
       "      <th>timestamp</th>\n",
       "      <th>prob</th>\n",
       "      <th>amp</th>\n",
       "      <th>type</th>\n",
       "      <th>event_idx</th>\n",
       "      <th>prob_gmma</th>\n",
       "    </tr>\n",
       "  </thead>\n",
       "  <tbody>\n",
       "    <tr>\n",
       "      <th>0</th>\n",
       "      <td>AV.ACH..BH</td>\n",
       "      <td>2018-10-01T09:42:19.528</td>\n",
       "      <td>0.976541</td>\n",
       "      <td>0.000076</td>\n",
       "      <td>p</td>\n",
       "      <td>0</td>\n",
       "      <td>0.081009</td>\n",
       "    </tr>\n",
       "    <tr>\n",
       "      <th>1</th>\n",
       "      <td>AV.ACH..BH</td>\n",
       "      <td>2018-10-01T09:42:20.918</td>\n",
       "      <td>0.930866</td>\n",
       "      <td>0.000076</td>\n",
       "      <td>s</td>\n",
       "      <td>0</td>\n",
       "      <td>0.100742</td>\n",
       "    </tr>\n",
       "    <tr>\n",
       "      <th>2</th>\n",
       "      <td>AV.ANCK..BH</td>\n",
       "      <td>2018-10-01T09:42:21.368</td>\n",
       "      <td>0.914994</td>\n",
       "      <td>0.000003</td>\n",
       "      <td>p</td>\n",
       "      <td>0</td>\n",
       "      <td>0.059387</td>\n",
       "    </tr>\n",
       "    <tr>\n",
       "      <th>3</th>\n",
       "      <td>AV.ANCK..BH</td>\n",
       "      <td>2018-10-01T09:42:23.798</td>\n",
       "      <td>0.851268</td>\n",
       "      <td>0.000003</td>\n",
       "      <td>s</td>\n",
       "      <td>0</td>\n",
       "      <td>0.069766</td>\n",
       "    </tr>\n",
       "    <tr>\n",
       "      <th>4</th>\n",
       "      <td>AV.KABU..BH</td>\n",
       "      <td>2018-10-01T09:42:19.308</td>\n",
       "      <td>0.981695</td>\n",
       "      <td>0.000031</td>\n",
       "      <td>p</td>\n",
       "      <td>0</td>\n",
       "      <td>0.101909</td>\n",
       "    </tr>\n",
       "  </tbody>\n",
       "</table>\n",
       "</div>"
      ],
      "text/plain": [
       "            id                timestamp      prob       amp type  event_idx  \\\n",
       "0   AV.ACH..BH  2018-10-01T09:42:19.528  0.976541  0.000076    p          0   \n",
       "1   AV.ACH..BH  2018-10-01T09:42:20.918  0.930866  0.000076    s          0   \n",
       "2  AV.ANCK..BH  2018-10-01T09:42:21.368  0.914994  0.000003    p          0   \n",
       "3  AV.ANCK..BH  2018-10-01T09:42:23.798  0.851268  0.000003    s          0   \n",
       "4  AV.KABU..BH  2018-10-01T09:42:19.308  0.981695  0.000031    p          0   \n",
       "\n",
       "   prob_gmma  \n",
       "0   0.081009  \n",
       "1   0.100742  \n",
       "2   0.059387  \n",
       "3   0.069766  \n",
       "4   0.101909  "
      ]
     },
     "execution_count": 245,
     "metadata": {},
     "output_type": "execute_result"
    }
   ],
   "source": [
    "# NOTE: optional you can run both phasenet and gamma with a single API call\n",
    "\n",
    "PHASENET_API_URL = \"http://phasenet.quakeflow.com\"\n",
    "\n",
    "config = {}\n",
    "config[\"xlim_degree\"] = [-170,-140]\n",
    "config[\"ylim_degree\"] = [50,65]\n",
    "stations_json = station_locs.to_dict(orient=\"records\")\n",
    "config_gamma = {'xlim_degree': config[\"xlim_degree\"], \n",
    "                'ylim_degree': config[\"ylim_degree\"],\n",
    "                'z(km)': [0, 41]}\n",
    "\n",
    "req = {\"id\": meta[\"station_id\"], \n",
    "       \"timestamp\": meta[\"t0\"],\n",
    "       \"vec\": meta[\"data\"].squeeze().tolist(),\n",
    "       \"stations\": stations_json,\n",
    "       \"config\": config_gamma}\n",
    "\n",
    "resp = requests.post(f'{PHASENET_API_URL}/predict_phasenet2gamma2ui', json=req)\n",
    "result = resp.json()"
   ]
  },
  {
   "cell_type": "markdown",
   "id": "1e3e7407-9ae3-4b5a-8171-6f756daaf20a",
   "metadata": {
    "tags": []
   },
   "source": [
    "### Now we save the QuakeFlow results to a json file:"
   ]
  },
  {
   "cell_type": "code",
   "execution_count": 248,
   "id": "d039b132-369d-44a0-8419-cd7d467edc6f",
   "metadata": {},
   "outputs": [],
   "source": [
    "save_file = 'result_example'\n",
    "\n",
    "with open(save_file+'.json', 'w') as f:\n",
    "    json.dump(result, f)"
   ]
  },
  {
   "cell_type": "code",
   "execution_count": 28,
   "id": "92d9b9d7-31aa-4cdb-942d-82614bf4c6ad",
   "metadata": {},
   "outputs": [
    {
     "data": {
      "text/plain": [
       "['AV.KCE..EH',\n",
       " 'XO.ET20..HH',\n",
       " 'AV.KCG..EH',\n",
       " 'AV.KVT..EH',\n",
       " 'AV.ANCK..BH',\n",
       " 'XO.ET19..HH',\n",
       " 'AV.ANCK..BH',\n",
       " 'AV.KJL..BH',\n",
       " 'XO.ET19..HH',\n",
       " 'AV.KEL..EH',\n",
       " 'AV.KAHG..BH',\n",
       " 'AV.Q18K..BH',\n",
       " 'XO.ET17..HH',\n",
       " 'XO.EP15..HH',\n",
       " 'AV.Q18K..BH',\n",
       " 'AK.R18K..BH',\n",
       " 'XO.KT06..HH',\n",
       " 'TA.Q16K..BH',\n",
       " 'AK.P17K..BH',\n",
       " 'XO.ET17..HH',\n",
       " 'XO.EP15..HH',\n",
       " 'AV.KABU..BH',\n",
       " 'AV.ACH..BH',\n",
       " 'AV.KCG..EH',\n",
       " 'AV.KABU..BH',\n",
       " 'AV.ACH..BH']"
      ]
     },
     "execution_count": 28,
     "metadata": {},
     "output_type": "execute_result"
    }
   ],
   "source": [
    "sta_list"
   ]
  },
  {
   "cell_type": "code",
   "execution_count": null,
   "id": "56eb802c-d65c-4f37-aa5c-7a2505fb9f2d",
   "metadata": {},
   "outputs": [],
   "source": []
  }
 ],
 "metadata": {
  "kernelspec": {
   "display_name": "quakeflow",
   "language": "python",
   "name": "quakeflow"
  },
  "language_info": {
   "codemirror_mode": {
    "name": "ipython",
    "version": 3
   },
   "file_extension": ".py",
   "mimetype": "text/x-python",
   "name": "python",
   "nbconvert_exporter": "python",
   "pygments_lexer": "ipython3",
   "version": "3.9.9"
  }
 },
 "nbformat": 4,
 "nbformat_minor": 5
}
