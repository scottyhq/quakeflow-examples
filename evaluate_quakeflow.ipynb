{
 "cells": [
  {
   "cell_type": "markdown",
   "id": "1e92be30-4d9a-4c41-839b-843b62242a2f",
   "metadata": {
    "tags": []
   },
   "source": [
    "## Code to compare the performance of QuakeFlow to conventional catalogs"
   ]
  },
  {
   "cell_type": "code",
   "execution_count": 3,
   "id": "d167ea11-c95f-42ed-9606-2c02455abdc3",
   "metadata": {},
   "outputs": [],
   "source": [
    "from collections import defaultdict\n",
    "import numpy as np\n",
    "import pandas as pd\n",
    "import time\n",
    "import requests\n",
    "import json\n",
    "import obspy\n",
    "from obspy.clients.fdsn import Client\n",
    "import geopandas as gpd"
   ]
  },
  {
   "cell_type": "code",
   "execution_count": 4,
   "id": "99464011-97af-432b-be9e-31bd134eafab",
   "metadata": {},
   "outputs": [],
   "source": [
    "import warnings\n",
    "warnings.filterwarnings('ignore')"
   ]
  },
  {
   "cell_type": "markdown",
   "id": "5ec560ea-ee88-4405-873f-48c379f7ef5e",
   "metadata": {},
   "source": [
    "#### Load in results from QuakeFlow from a response json file:"
   ]
  },
  {
   "cell_type": "code",
   "execution_count": 5,
   "id": "c6cd00a8-d572-4c36-81f1-72bd0d7b5b32",
   "metadata": {},
   "outputs": [],
   "source": [
    "load_file = 'result_example'"
   ]
  },
  {
   "cell_type": "code",
   "execution_count": 10,
   "id": "866ea69f-7e32-4329-8372-1d957544967a",
   "metadata": {},
   "outputs": [
    {
     "name": "stdout",
     "output_type": "stream",
     "text": [
      "Catalog:\n"
     ]
    },
    {
     "data": {
      "text/html": [
       "<div>\n",
       "<style scoped>\n",
       "    .dataframe tbody tr th:only-of-type {\n",
       "        vertical-align: middle;\n",
       "    }\n",
       "\n",
       "    .dataframe tbody tr th {\n",
       "        vertical-align: top;\n",
       "    }\n",
       "\n",
       "    .dataframe thead th {\n",
       "        text-align: right;\n",
       "    }\n",
       "</style>\n",
       "<table border=\"1\" class=\"dataframe\">\n",
       "  <thead>\n",
       "    <tr style=\"text-align: right;\">\n",
       "      <th></th>\n",
       "      <th>time</th>\n",
       "      <th>latitude</th>\n",
       "      <th>longitude</th>\n",
       "      <th>depth(m)</th>\n",
       "      <th>magnitude</th>\n",
       "      <th>covariance</th>\n",
       "    </tr>\n",
       "  </thead>\n",
       "  <tbody>\n",
       "    <tr>\n",
       "      <th>0</th>\n",
       "      <td>2018-10-01T09:42:15.237</td>\n",
       "      <td>58.17243</td>\n",
       "      <td>-155.232183</td>\n",
       "      <td>13715.249876</td>\n",
       "      <td>1.941594</td>\n",
       "      <td>2.224,0.391,0.278</td>\n",
       "    </tr>\n",
       "  </tbody>\n",
       "</table>\n",
       "</div>"
      ],
      "text/plain": [
       "                      time  latitude   longitude      depth(m)  magnitude  \\\n",
       "0  2018-10-01T09:42:15.237  58.17243 -155.232183  13715.249876   1.941594   \n",
       "\n",
       "          covariance  \n",
       "0  2.224,0.391,0.278  "
      ]
     },
     "metadata": {},
     "output_type": "display_data"
    },
    {
     "name": "stdout",
     "output_type": "stream",
     "text": [
      "Association:\n"
     ]
    },
    {
     "data": {
      "text/html": [
       "<div>\n",
       "<style scoped>\n",
       "    .dataframe tbody tr th:only-of-type {\n",
       "        vertical-align: middle;\n",
       "    }\n",
       "\n",
       "    .dataframe tbody tr th {\n",
       "        vertical-align: top;\n",
       "    }\n",
       "\n",
       "    .dataframe thead th {\n",
       "        text-align: right;\n",
       "    }\n",
       "</style>\n",
       "<table border=\"1\" class=\"dataframe\">\n",
       "  <thead>\n",
       "    <tr style=\"text-align: right;\">\n",
       "      <th></th>\n",
       "      <th>id</th>\n",
       "      <th>timestamp</th>\n",
       "      <th>prob</th>\n",
       "      <th>amp</th>\n",
       "      <th>type</th>\n",
       "      <th>event_idx</th>\n",
       "      <th>prob_gmma</th>\n",
       "    </tr>\n",
       "  </thead>\n",
       "  <tbody>\n",
       "    <tr>\n",
       "      <th>0</th>\n",
       "      <td>AV.ACH..BH</td>\n",
       "      <td>2018-10-01T09:42:19.528</td>\n",
       "      <td>0.976541</td>\n",
       "      <td>0.000076</td>\n",
       "      <td>p</td>\n",
       "      <td>0</td>\n",
       "      <td>0.081009</td>\n",
       "    </tr>\n",
       "    <tr>\n",
       "      <th>1</th>\n",
       "      <td>AV.ACH..BH</td>\n",
       "      <td>2018-10-01T09:42:20.918</td>\n",
       "      <td>0.930866</td>\n",
       "      <td>0.000076</td>\n",
       "      <td>s</td>\n",
       "      <td>0</td>\n",
       "      <td>0.100742</td>\n",
       "    </tr>\n",
       "    <tr>\n",
       "      <th>2</th>\n",
       "      <td>AV.ANCK..BH</td>\n",
       "      <td>2018-10-01T09:42:21.368</td>\n",
       "      <td>0.914994</td>\n",
       "      <td>0.000003</td>\n",
       "      <td>p</td>\n",
       "      <td>0</td>\n",
       "      <td>0.059387</td>\n",
       "    </tr>\n",
       "    <tr>\n",
       "      <th>3</th>\n",
       "      <td>AV.ANCK..BH</td>\n",
       "      <td>2018-10-01T09:42:23.798</td>\n",
       "      <td>0.851268</td>\n",
       "      <td>0.000003</td>\n",
       "      <td>s</td>\n",
       "      <td>0</td>\n",
       "      <td>0.069766</td>\n",
       "    </tr>\n",
       "    <tr>\n",
       "      <th>4</th>\n",
       "      <td>AV.KABU..BH</td>\n",
       "      <td>2018-10-01T09:42:19.308</td>\n",
       "      <td>0.981695</td>\n",
       "      <td>0.000031</td>\n",
       "      <td>p</td>\n",
       "      <td>0</td>\n",
       "      <td>0.101909</td>\n",
       "    </tr>\n",
       "  </tbody>\n",
       "</table>\n",
       "</div>"
      ],
      "text/plain": [
       "            id                timestamp      prob       amp type  event_idx  \\\n",
       "0   AV.ACH..BH  2018-10-01T09:42:19.528  0.976541  0.000076    p          0   \n",
       "1   AV.ACH..BH  2018-10-01T09:42:20.918  0.930866  0.000076    s          0   \n",
       "2  AV.ANCK..BH  2018-10-01T09:42:21.368  0.914994  0.000003    p          0   \n",
       "3  AV.ANCK..BH  2018-10-01T09:42:23.798  0.851268  0.000003    s          0   \n",
       "4  AV.KABU..BH  2018-10-01T09:42:19.308  0.981695  0.000031    p          0   \n",
       "\n",
       "   prob_gmma  \n",
       "0   0.081009  \n",
       "1   0.100742  \n",
       "2   0.059387  \n",
       "3   0.069766  \n",
       "4   0.101909  "
      ]
     },
     "execution_count": 10,
     "metadata": {},
     "output_type": "execute_result"
    }
   ],
   "source": [
    "f = open(load_file+'.json')\n",
    "result = json.load(f)\n",
    "\n",
    "catalog_gamma = result[\"catalog\"]\n",
    "picks_gamma = result[\"picks\"]\n",
    "print(\"Catalog:\")\n",
    "display(pd.DataFrame(catalog_gamma)[[\"time\", \"latitude\", \"longitude\", \"depth(m)\", \"magnitude\", \"covariance\"]])\n",
    "print(\"Association:\")\n",
    "df = pd.DataFrame(picks_gamma)\n",
    "df.head()"
   ]
  },
  {
   "cell_type": "markdown",
   "id": "c2f98e6b-5eb6-4165-a76a-2a131bd40768",
   "metadata": {},
   "source": [
    "#### Load in the original catalog information:"
   ]
  },
  {
   "cell_type": "code",
   "execution_count": 11,
   "id": "c399c669-cd36-472f-8be0-92422f0a970e",
   "metadata": {},
   "outputs": [],
   "source": [
    "cat = obspy.core.event.read_events('XO_2018_10.quakeml')\n",
    "event = cat.events[2]\n",
    "print('Earthquake on',str(event.origins[0].time))\n",
    "print('Earthquake has',str(len(event.picks)),'picks')\n",
    "print('Earthquake magnitude is',str(event.magnitudes[0].mag))"
   ]
  },
  {
   "cell_type": "markdown",
   "id": "0af7edb8-4455-4b9d-8868-18350324c698",
   "metadata": {},
   "source": [
    "### Let's start with a look at how the picks compare between PhaseNet and the original catalog."
   ]
  },
  {
   "cell_type": "code",
   "execution_count": 31,
   "id": "b2591879-7bc4-4493-beca-1254cc7936cd",
   "metadata": {},
   "outputs": [
    {
     "data": {
      "text/html": [
       "<div>\n",
       "<style scoped>\n",
       "    .dataframe tbody tr th:only-of-type {\n",
       "        vertical-align: middle;\n",
       "    }\n",
       "\n",
       "    .dataframe tbody tr th {\n",
       "        vertical-align: top;\n",
       "    }\n",
       "\n",
       "    .dataframe thead th {\n",
       "        text-align: right;\n",
       "    }\n",
       "</style>\n",
       "<table border=\"1\" class=\"dataframe\">\n",
       "  <thead>\n",
       "    <tr style=\"text-align: right;\">\n",
       "      <th></th>\n",
       "      <th>og_phase</th>\n",
       "      <th>arr_id</th>\n",
       "      <th>sta_code</th>\n",
       "      <th>pick_id</th>\n",
       "      <th>og_timestamp</th>\n",
       "    </tr>\n",
       "  </thead>\n",
       "  <tbody>\n",
       "    <tr>\n",
       "      <th>0</th>\n",
       "      <td>p</td>\n",
       "      <td>282</td>\n",
       "      <td>AV.KCE..EH</td>\n",
       "      <td>282</td>\n",
       "      <td>2018-10-01T09:42:18.551000Z</td>\n",
       "    </tr>\n",
       "    <tr>\n",
       "      <th>1</th>\n",
       "      <td>p</td>\n",
       "      <td>288</td>\n",
       "      <td>XO.ET20..HH</td>\n",
       "      <td>288</td>\n",
       "      <td>2018-10-01T09:42:20.965000Z</td>\n",
       "    </tr>\n",
       "    <tr>\n",
       "      <th>2</th>\n",
       "      <td>s</td>\n",
       "      <td>289</td>\n",
       "      <td>AV.KCG..EH</td>\n",
       "      <td>289</td>\n",
       "      <td>2018-10-01T09:42:20.979000Z</td>\n",
       "    </tr>\n",
       "    <tr>\n",
       "      <th>3</th>\n",
       "      <td>p</td>\n",
       "      <td>290</td>\n",
       "      <td>AV.KVT..EH</td>\n",
       "      <td>290</td>\n",
       "      <td>2018-10-01T09:42:21.104000Z</td>\n",
       "    </tr>\n",
       "    <tr>\n",
       "      <th>4</th>\n",
       "      <td>p</td>\n",
       "      <td>291</td>\n",
       "      <td>AV.ANCK..BH</td>\n",
       "      <td>291</td>\n",
       "      <td>2018-10-01T09:42:21.368000Z</td>\n",
       "    </tr>\n",
       "  </tbody>\n",
       "</table>\n",
       "</div>"
      ],
      "text/plain": [
       "  og_phase  arr_id     sta_code  pick_id                 og_timestamp\n",
       "0        p     282   AV.KCE..EH      282  2018-10-01T09:42:18.551000Z\n",
       "1        p     288  XO.ET20..HH      288  2018-10-01T09:42:20.965000Z\n",
       "2        s     289   AV.KCG..EH      289  2018-10-01T09:42:20.979000Z\n",
       "3        p     290   AV.KVT..EH      290  2018-10-01T09:42:21.104000Z\n",
       "4        p     291  AV.ANCK..BH      291  2018-10-01T09:42:21.368000Z"
      ]
     },
     "execution_count": 31,
     "metadata": {},
     "output_type": "execute_result"
    }
   ],
   "source": [
    "# Starting off by getting a useful dataframe from the quakeml file of all the pertinent pick info.\n",
    "# This is the ground truth.\n",
    "\n",
    "# Match phase to picks:\n",
    "phase = [];arr_id = [];\n",
    "for arrivals in event.origins[0].arrivals:\n",
    "    phase.append(arrivals.phase.lower())\n",
    "    txt=int(''.join(filter(str.isdigit, str(arrivals.resource_id))))\n",
    "    arr_id.append(txt)\n",
    "arr_df = pd.DataFrame({'og_phase':phase,'arr_id':arr_id})\n",
    "arr_df.head()\n",
    "pick_id = [];timestamp = [];sta_code=[];\n",
    "for pick in event.picks:\n",
    "    sta_code.append(pick.waveform_id.network_code+'.'+pick.waveform_id.station_code+'..'+pick.waveform_id.channel_code[0:2])\n",
    "    txt=int(''.join(filter(str.isdigit, str(pick.resource_id))))\n",
    "    pick_id.append(txt)\n",
    "    timestamp.append(pick.time)\n",
    "pick_df = pd.DataFrame({'sta_code':sta_code,'pick_id':pick_id,'og_timestamp':timestamp})\n",
    "pick_df.head()\n",
    "\n",
    "# Merge the arrivals and the picks:\n",
    "ground_truth = pd.merge(left=arr_df, right=pick_df, left_on='arr_id', right_on='pick_id')\n",
    "\n",
    "ground_truth.head()"
   ]
  },
  {
   "cell_type": "markdown",
   "id": "a5ba9b45-758e-4cf1-bc31-70e0316827f4",
   "metadata": {},
   "source": [
    "#### Now, see which picks were common between the original catalog and PhaseNet by joining based on phase type and station code. This allows us to see how accurate the picks it got were. "
   ]
  },
  {
   "cell_type": "code",
   "execution_count": 16,
   "id": "cc09ca24-4258-407c-85a7-2f5d9bc7c289",
   "metadata": {},
   "outputs": [
    {
     "data": {
      "text/html": [
       "<div>\n",
       "<style scoped>\n",
       "    .dataframe tbody tr th:only-of-type {\n",
       "        vertical-align: middle;\n",
       "    }\n",
       "\n",
       "    .dataframe tbody tr th {\n",
       "        vertical-align: top;\n",
       "    }\n",
       "\n",
       "    .dataframe thead th {\n",
       "        text-align: right;\n",
       "    }\n",
       "</style>\n",
       "<table border=\"1\" class=\"dataframe\">\n",
       "  <thead>\n",
       "    <tr style=\"text-align: right;\">\n",
       "      <th></th>\n",
       "      <th>id</th>\n",
       "      <th>timestamp</th>\n",
       "      <th>prob</th>\n",
       "      <th>amp</th>\n",
       "      <th>type</th>\n",
       "      <th>event_idx</th>\n",
       "      <th>prob_gmma</th>\n",
       "      <th>og_phase</th>\n",
       "      <th>arr_id</th>\n",
       "      <th>sta_code</th>\n",
       "      <th>pick_id</th>\n",
       "      <th>og_timestamp</th>\n",
       "    </tr>\n",
       "  </thead>\n",
       "  <tbody>\n",
       "    <tr>\n",
       "      <th>0</th>\n",
       "      <td>AV.ACH..BH</td>\n",
       "      <td>2018-10-01T09:42:19.528</td>\n",
       "      <td>0.976541</td>\n",
       "      <td>0.000076</td>\n",
       "      <td>p</td>\n",
       "      <td>0</td>\n",
       "      <td>0.081009</td>\n",
       "      <td>p</td>\n",
       "      <td>284</td>\n",
       "      <td>AV.ACH..BH</td>\n",
       "      <td>284</td>\n",
       "      <td>2018-10-01T09:42:19.503000Z</td>\n",
       "    </tr>\n",
       "    <tr>\n",
       "      <th>1</th>\n",
       "      <td>AV.ACH..BH</td>\n",
       "      <td>2018-10-01T09:42:20.918</td>\n",
       "      <td>0.930866</td>\n",
       "      <td>0.000076</td>\n",
       "      <td>s</td>\n",
       "      <td>0</td>\n",
       "      <td>0.100742</td>\n",
       "      <td>s</td>\n",
       "      <td>287</td>\n",
       "      <td>AV.ACH..BH</td>\n",
       "      <td>287</td>\n",
       "      <td>2018-10-01T09:42:20.854000Z</td>\n",
       "    </tr>\n",
       "    <tr>\n",
       "      <th>2</th>\n",
       "      <td>AV.ANCK..BH</td>\n",
       "      <td>2018-10-01T09:42:21.368</td>\n",
       "      <td>0.914994</td>\n",
       "      <td>0.000003</td>\n",
       "      <td>p</td>\n",
       "      <td>0</td>\n",
       "      <td>0.059387</td>\n",
       "      <td>p</td>\n",
       "      <td>291</td>\n",
       "      <td>AV.ANCK..BH</td>\n",
       "      <td>291</td>\n",
       "      <td>2018-10-01T09:42:21.368000Z</td>\n",
       "    </tr>\n",
       "    <tr>\n",
       "      <th>3</th>\n",
       "      <td>AV.ANCK..BH</td>\n",
       "      <td>2018-10-01T09:42:23.798</td>\n",
       "      <td>0.851268</td>\n",
       "      <td>0.000003</td>\n",
       "      <td>s</td>\n",
       "      <td>0</td>\n",
       "      <td>0.069766</td>\n",
       "      <td>s</td>\n",
       "      <td>293</td>\n",
       "      <td>AV.ANCK..BH</td>\n",
       "      <td>293</td>\n",
       "      <td>2018-10-01T09:42:23.548000Z</td>\n",
       "    </tr>\n",
       "    <tr>\n",
       "      <th>4</th>\n",
       "      <td>AV.KABU..BH</td>\n",
       "      <td>2018-10-01T09:42:19.308</td>\n",
       "      <td>0.981695</td>\n",
       "      <td>0.000031</td>\n",
       "      <td>p</td>\n",
       "      <td>0</td>\n",
       "      <td>0.101909</td>\n",
       "      <td>p</td>\n",
       "      <td>283</td>\n",
       "      <td>AV.KABU..BH</td>\n",
       "      <td>283</td>\n",
       "      <td>2018-10-01T09:42:19.328000Z</td>\n",
       "    </tr>\n",
       "  </tbody>\n",
       "</table>\n",
       "</div>"
      ],
      "text/plain": [
       "            id                timestamp      prob       amp type  event_idx  \\\n",
       "0   AV.ACH..BH  2018-10-01T09:42:19.528  0.976541  0.000076    p          0   \n",
       "1   AV.ACH..BH  2018-10-01T09:42:20.918  0.930866  0.000076    s          0   \n",
       "2  AV.ANCK..BH  2018-10-01T09:42:21.368  0.914994  0.000003    p          0   \n",
       "3  AV.ANCK..BH  2018-10-01T09:42:23.798  0.851268  0.000003    s          0   \n",
       "4  AV.KABU..BH  2018-10-01T09:42:19.308  0.981695  0.000031    p          0   \n",
       "\n",
       "   prob_gmma og_phase  arr_id     sta_code  pick_id  \\\n",
       "0   0.081009        p     284   AV.ACH..BH      284   \n",
       "1   0.100742        s     287   AV.ACH..BH      287   \n",
       "2   0.059387        p     291  AV.ANCK..BH      291   \n",
       "3   0.069766        s     293  AV.ANCK..BH      293   \n",
       "4   0.101909        p     283  AV.KABU..BH      283   \n",
       "\n",
       "                  og_timestamp  \n",
       "0  2018-10-01T09:42:19.503000Z  \n",
       "1  2018-10-01T09:42:20.854000Z  \n",
       "2  2018-10-01T09:42:21.368000Z  \n",
       "3  2018-10-01T09:42:23.548000Z  \n",
       "4  2018-10-01T09:42:19.328000Z  "
      ]
     },
     "execution_count": 16,
     "metadata": {},
     "output_type": "execute_result"
    }
   ],
   "source": [
    "comp = pd.merge(left = df, right = ground_truth, left_on=['id','type'],right_on=['sta_code','og_phase'])\n",
    "comp.head()"
   ]
  },
  {
   "cell_type": "markdown",
   "id": "c02c98cb-975e-4b47-9ec6-a550bc622723",
   "metadata": {},
   "source": [
    "### Make plots to visualize the accuracy of the correct PhaseNet picks, and also quantify/plot up false positives, negatives, etc."
   ]
  },
  {
   "cell_type": "markdown",
   "id": "21f09906-ce06-41ea-9164-081264b728a8",
   "metadata": {},
   "source": [
    "#### First calculate time residuals between picks, as original-QuakeFlow:"
   ]
  },
  {
   "cell_type": "code",
   "execution_count": 55,
   "id": "ac14682c-302c-404a-a18b-db9b4be3341a",
   "metadata": {},
   "outputs": [
    {
     "data": {
      "text/plain": [
       "<AxesSubplot:>"
      ]
     },
     "execution_count": 55,
     "metadata": {},
     "output_type": "execute_result"
    },
    {
     "data": {
      "image/png": "[encoded data removed]",
      "text/plain": [
       "<Figure size 432x288 with 1 Axes>"
      ]
     },
     "metadata": {
      "needs_background": "light"
     },
     "output_type": "display_data"
    }
   ],
   "source": [
    "# Convert QuakeFlow timestamp results to datetime:\n",
    "comp['timestamp'] = [obspy.UTCDateTime(t) for t in comp['timestamp']]\n",
    "# Add residual column:\n",
    "comp['pick_resid'] = comp['og_timestamp'] - comp['timestamp']\n",
    "\n",
    "comp.head()\n",
    "comp['pick_resid'].hist(bins=20)"
   ]
  },
  {
   "cell_type": "markdown",
   "id": "8f75f170-63e6-4314-a612-bb7a589b5d1a",
   "metadata": {},
   "source": [
    "### Let's start off by calling correct picks those with a residual < 0.5 seconds."
   ]
  },
  {
   "cell_type": "code",
   "execution_count": 59,
   "id": "c795894d-7a72-4ccd-aac2-2ef06ab9abb7",
   "metadata": {},
   "outputs": [
    {
     "name": "stdout",
     "output_type": "stream",
     "text": [
      "20\n"
     ]
    }
   ],
   "source": [
    "resid_max = 0.5\n",
    "\n",
    "true_positives = len(np.abs(comp['pick_resid'])<resid_max)"
   ]
  },
  {
   "cell_type": "markdown",
   "id": "31a811e3-ec44-4098-8abb-6abf00fb5b27",
   "metadata": {},
   "source": [
    "#### Now let's take a closer look at the \"new\" picks that PhaseNet got, and see if they look real:\n",
    "\n",
    "## TO-DO: Download the waveform from the \"new\" pick, plot the PhaseNet pick atop to evaluate it"
   ]
  },
  {
   "cell_type": "code",
   "execution_count": 78,
   "id": "7cb0c43b-14a0-4d74-87fc-19d5a67355e0",
   "metadata": {},
   "outputs": [
    {
     "name": "stdout",
     "output_type": "stream",
     "text": [
      "AV.KEL..EH\n",
      "AV.KVT..EH\n",
      "TA.P17K..BH\n",
      "TA.Q16K..BH\n",
      "TA.Q18K..BH\n",
      "TA.Q18K..BH\n",
      "TA.R18K..BH\n",
      "XO.ET20..HH\n"
     ]
    }
   ],
   "source": [
    "cross = pd.merge(left = df, right = ground_truth,how=\"outer\", left_on=['id','type'],right_on=['sta_code','og_phase'])\n",
    "\n",
    "# Picks that PhaseNet got but aren't in the conventional catalog:\n",
    "new_picks = cross[cross['og_timestamp'].isna()]\n",
    "new_picks\n",
    "\n",
    "client = Client(\"iris\")\n",
    "interval = 30 #s\n",
    "starttime = event.origins[0].time\n",
    "endtime = starttime + interval\n",
    "stream = obspy.Stream()\n",
    "for i in range(len(new_picks)):\n",
    "    txt=new_picks.iloc[i]['id']\n",
    "    txt.split('.')\n",
    "    # tmp = client.get_waveforms(network.code, station.code, \"*\", channel, starttime, endtime)\n",
    "    # stream += tmp\n",
    "\n"
   ]
  }
 ],
 "metadata": {
  "kernelspec": {
   "display_name": "quakeflow",
   "language": "python",
   "name": "quakeflow"
  },
  "language_info": {
   "codemirror_mode": {
    "name": "ipython",
    "version": 3
   },
   "file_extension": ".py",
   "mimetype": "text/x-python",
   "name": "python",
   "nbconvert_exporter": "python",
   "pygments_lexer": "ipython3",
   "version": "3.9.9"
  }
 },
 "nbformat": 4,
 "nbformat_minor": 5
}
